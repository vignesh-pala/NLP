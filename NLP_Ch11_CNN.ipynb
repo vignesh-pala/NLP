{
  "nbformat": 4,
  "nbformat_minor": 0,
  "metadata": {
    "colab": {
      "name": "NLP_Ch11_CNN.ipynb",
      "provenance": [],
      "collapsed_sections": [],
      "authorship_tag": "ABX9TyMxwhy4FSD8rJByiskQA8Zs",
      "include_colab_link": true
    },
    "kernelspec": {
      "name": "python3",
      "display_name": "Python 3"
    }
  },
  "cells": [
    {
      "cell_type": "markdown",
      "metadata": {
        "id": "view-in-github",
        "colab_type": "text"
      },
      "source": [
        "<a href=\"https://colab.research.google.com/github/vignesh-pala/NLP/blob/master/NLP_Ch11_CNN.ipynb\" target=\"_parent\"><img src=\"https://colab.research.google.com/assets/colab-badge.svg\" alt=\"Open In Colab\"/></a>"
      ]
    },
    {
      "cell_type": "code",
      "metadata": {
        "id": "CM5sHv_AZzdg",
        "colab_type": "code",
        "colab": {
          "base_uri": "https://localhost:8080/",
          "height": 120
        },
        "outputId": "2a0790fe-53a8-49fa-f20e-8dbfa27bd58b"
      },
      "source": [
        "import tensorflow \n",
        "from tensorflow import keras\n",
        "import numpy as np\n",
        "import matplotlib.pyplot as plt\n",
        "import seaborn as sns\n",
        "import pandas as pd\n",
        "from tensorflow.keras.datasets import reuters\n",
        "from sklearn.preprocessing import MinMaxScaler\n",
        "from tensorflow.keras.preprocessing.text import Tokenizer\n",
        "from tensorflow.keras.utils import to_categorical\n",
        "from tensorflow.keras import models,layers,regularizers\n",
        "from tensorflow.keras.models import Sequential\n",
        "from tensorflow.keras.callbacks import EarlyStopping\n",
        "from tensorflow.keras.regularizers import l1, l2, l1_l2\n",
        "from tensorflow.keras.layers import Flatten, Dense, BatchNormalization\n",
        "from tensorflow.keras.preprocessing.sequence import pad_sequences\n",
        "\n",
        "from tensorflow.keras.preprocessing.text import Tokenizer\n",
        "from tensorflow.keras import preprocessing\n",
        "from tensorflow.keras import models, layers, backend\n",
        "from keras.utils import np_utils\n",
        "\n",
        "from matplotlib import pyplot\n",
        "from sklearn.preprocessing import MinMaxScaler\n",
        "from sklearn.model_selection import train_test_split\n",
        "\n",
        "from sklearn.feature_extraction.text import CountVectorizer\n",
        "import nltk\n",
        "nltk.download('stopwords')\n",
        "import string\n",
        "#stop_words = set(stopwords.words('english'))"
      ],
      "execution_count": 1,
      "outputs": [
        {
          "output_type": "stream",
          "text": [
            "/usr/local/lib/python3.6/dist-packages/statsmodels/tools/_testing.py:19: FutureWarning: pandas.util.testing is deprecated. Use the functions in the public API at pandas.testing instead.\n",
            "  import pandas.util.testing as tm\n",
            "Using TensorFlow backend.\n"
          ],
          "name": "stderr"
        },
        {
          "output_type": "stream",
          "text": [
            "[nltk_data] Downloading package stopwords to /root/nltk_data...\n",
            "[nltk_data]   Unzipping corpora/stopwords.zip.\n"
          ],
          "name": "stdout"
        }
      ]
    },
    {
      "cell_type": "code",
      "metadata": {
        "id": "nu-TT1ycanqp",
        "colab_type": "code",
        "colab": {}
      },
      "source": [
        "# Read input from Google drive\n",
        "df = pd.read_csv('/content/yelp_labelled.txt', names=['sentence', 'label'], sep='\\t')"
      ],
      "execution_count": 2,
      "outputs": []
    },
    {
      "cell_type": "code",
      "metadata": {
        "id": "H29adaNubfW0",
        "colab_type": "code",
        "colab": {
          "base_uri": "https://localhost:8080/",
          "height": 196
        },
        "outputId": "eb7978e2-ebb8-46ab-eb95-d73d129c5673"
      },
      "source": [
        "df.head()"
      ],
      "execution_count": 3,
      "outputs": [
        {
          "output_type": "execute_result",
          "data": {
            "text/html": [
              "<div>\n",
              "<style scoped>\n",
              "    .dataframe tbody tr th:only-of-type {\n",
              "        vertical-align: middle;\n",
              "    }\n",
              "\n",
              "    .dataframe tbody tr th {\n",
              "        vertical-align: top;\n",
              "    }\n",
              "\n",
              "    .dataframe thead th {\n",
              "        text-align: right;\n",
              "    }\n",
              "</style>\n",
              "<table border=\"1\" class=\"dataframe\">\n",
              "  <thead>\n",
              "    <tr style=\"text-align: right;\">\n",
              "      <th></th>\n",
              "      <th>sentence</th>\n",
              "      <th>label</th>\n",
              "    </tr>\n",
              "  </thead>\n",
              "  <tbody>\n",
              "    <tr>\n",
              "      <th>0</th>\n",
              "      <td>Wow... Loved this place.</td>\n",
              "      <td>1</td>\n",
              "    </tr>\n",
              "    <tr>\n",
              "      <th>1</th>\n",
              "      <td>Crust is not good.</td>\n",
              "      <td>0</td>\n",
              "    </tr>\n",
              "    <tr>\n",
              "      <th>2</th>\n",
              "      <td>Not tasty and the texture was just nasty.</td>\n",
              "      <td>0</td>\n",
              "    </tr>\n",
              "    <tr>\n",
              "      <th>3</th>\n",
              "      <td>Stopped by during the late May bank holiday of...</td>\n",
              "      <td>1</td>\n",
              "    </tr>\n",
              "    <tr>\n",
              "      <th>4</th>\n",
              "      <td>The selection on the menu was great and so wer...</td>\n",
              "      <td>1</td>\n",
              "    </tr>\n",
              "  </tbody>\n",
              "</table>\n",
              "</div>"
            ],
            "text/plain": [
              "                                            sentence  label\n",
              "0                           Wow... Loved this place.      1\n",
              "1                                 Crust is not good.      0\n",
              "2          Not tasty and the texture was just nasty.      0\n",
              "3  Stopped by during the late May bank holiday of...      1\n",
              "4  The selection on the menu was great and so wer...      1"
            ]
          },
          "metadata": {
            "tags": []
          },
          "execution_count": 3
        }
      ]
    },
    {
      "cell_type": "code",
      "metadata": {
        "id": "S93r31uShzWd",
        "colab_type": "code",
        "colab": {
          "base_uri": "https://localhost:8080/",
          "height": 167
        },
        "outputId": "b1c719bf-56a9-4093-90c0-aad74594d114"
      },
      "source": [
        "# check size of data\n",
        "df.info()"
      ],
      "execution_count": 4,
      "outputs": [
        {
          "output_type": "stream",
          "text": [
            "<class 'pandas.core.frame.DataFrame'>\n",
            "RangeIndex: 1000 entries, 0 to 999\n",
            "Data columns (total 2 columns):\n",
            " #   Column    Non-Null Count  Dtype \n",
            "---  ------    --------------  ----- \n",
            " 0   sentence  1000 non-null   object\n",
            " 1   label     1000 non-null   int64 \n",
            "dtypes: int64(1), object(1)\n",
            "memory usage: 15.8+ KB\n"
          ],
          "name": "stdout"
        }
      ]
    },
    {
      "cell_type": "code",
      "metadata": {
        "id": "79hVWfVwh-nM",
        "colab_type": "code",
        "colab": {
          "base_uri": "https://localhost:8080/",
          "height": 67
        },
        "outputId": "1f760281-3e3b-44a7-eb12-18fd456df377"
      },
      "source": [
        "#check for null values\n",
        "df.isnull().sum()"
      ],
      "execution_count": 5,
      "outputs": [
        {
          "output_type": "execute_result",
          "data": {
            "text/plain": [
              "sentence    0\n",
              "label       0\n",
              "dtype: int64"
            ]
          },
          "metadata": {
            "tags": []
          },
          "execution_count": 5
        }
      ]
    },
    {
      "cell_type": "code",
      "metadata": {
        "id": "Ovs5rcAmboL6",
        "colab_type": "code",
        "colab": {
          "base_uri": "https://localhost:8080/",
          "height": 35
        },
        "outputId": "f414c093-941a-41fd-e1ff-c02bbd69d389"
      },
      "source": [
        "#seperate sentence and labels\n",
        "sentence = df['sentence'].values\n",
        "label = df['label'].values\n",
        "sentence[0]"
      ],
      "execution_count": 6,
      "outputs": [
        {
          "output_type": "execute_result",
          "data": {
            "application/vnd.google.colaboratory.intrinsic": {
              "type": "string"
            },
            "text/plain": [
              "'Wow... Loved this place.'"
            ]
          },
          "metadata": {
            "tags": []
          },
          "execution_count": 6
        }
      ]
    },
    {
      "cell_type": "code",
      "metadata": {
        "id": "VP8vJD2dG-AU",
        "colab_type": "code",
        "colab": {}
      },
      "source": [
        "# Train Test Split\n",
        "X_train, X_test, y_train, y_test = train_test_split(sentence, label, test_size=0.2, random_state=42)"
      ],
      "execution_count": 7,
      "outputs": []
    },
    {
      "cell_type": "markdown",
      "metadata": {
        "id": "SMQPvZpXmGS5",
        "colab_type": "text"
      },
      "source": [
        " * Tokenize and Convert to Sequences\n"
      ]
    },
    {
      "cell_type": "code",
      "metadata": {
        "id": "YbKJ0tNghowp",
        "colab_type": "code",
        "colab": {
          "base_uri": "https://localhost:8080/",
          "height": 50
        },
        "outputId": "94d27d5a-e72e-406a-a93e-3678dda93110"
      },
      "source": [
        "max_words = 1500\n",
        "\n",
        "tokenizer = Tokenizer(num_words=max_words)\n",
        "tokenizer.fit_on_texts(X_train)\n",
        "x_train_tkn = tokenizer.texts_to_sequences(X_train)\n",
        "x_test_tkn = tokenizer.texts_to_sequences(X_test)\n",
        "print(X_train[1])\n",
        "print(x_train_tkn[1]) "
      ],
      "execution_count": 35,
      "outputs": [
        {
          "output_type": "stream",
          "text": [
            "An excellent new restaurant by an experienced Frenchman.\n",
            "[46, 144, 370, 66, 61, 46, 773, 774]\n"
          ],
          "name": "stdout"
        }
      ]
    },
    {
      "cell_type": "markdown",
      "metadata": {
        "id": "91UXpRW7m3pN",
        "colab_type": "text"
      },
      "source": [
        " Pad the vector to have fixed length\n",
        " \n",
        "    Note: the max words in the sentences is only around 25, so set maxlen = 25"
      ]
    },
    {
      "cell_type": "code",
      "metadata": {
        "id": "T3zOMLgbjzYJ",
        "colab_type": "code",
        "colab": {}
      },
      "source": [
        "maxlen = 25\n",
        "x_train_pad = preprocessing.sequence.pad_sequences(x_train_tkn, maxlen=maxlen,  padding='post')\n",
        "x_test_pad = preprocessing.sequence.pad_sequences(x_test_tkn, maxlen=maxlen,  padding='post')"
      ],
      "execution_count": 36,
      "outputs": []
    },
    {
      "cell_type": "code",
      "metadata": {
        "id": "bSqQVkN4fM-Z",
        "colab_type": "code",
        "colab": {
          "base_uri": "https://localhost:8080/",
          "height": 67
        },
        "outputId": "4f37d082-95a3-44a1-bc22-6746c0b5fc11"
      },
      "source": [
        "x_train_pad[0]"
      ],
      "execution_count": 19,
      "outputs": [
        {
          "output_type": "execute_result",
          "data": {
            "text/plain": [
              "array([  1, 137,   4,   1, 303, 369,   0,   0,   0,   0,   0,   0,   0,\n",
              "         0,   0,   0,   0,   0,   0,   0,   0,   0,   0,   0,   0],\n",
              "      dtype=int32)"
            ]
          },
          "metadata": {
            "tags": []
          },
          "execution_count": 19
        }
      ]
    },
    {
      "cell_type": "code",
      "metadata": {
        "id": "neJnlbhcj9IU",
        "colab_type": "code",
        "colab": {
          "base_uri": "https://localhost:8080/",
          "height": 33
        },
        "outputId": "4adc7d8b-c2f3-4673-f858-0f257ccce9ca"
      },
      "source": [
        "#Adding 1 because of  reserved 0 index\n",
        "vocab_size = len(tokenizer.word_index) + 1\n",
        "vocab_size"
      ],
      "execution_count": 32,
      "outputs": [
        {
          "output_type": "execute_result",
          "data": {
            "text/plain": [
              "1825"
            ]
          },
          "metadata": {
            "tags": []
          },
          "execution_count": 32
        }
      ]
    },
    {
      "cell_type": "markdown",
      "metadata": {
        "id": "TJw6PvhnpZ1A",
        "colab_type": "text"
      },
      "source": [
        ", bias_regularizer=Non"
      ]
    },
    {
      "cell_type": "code",
      "metadata": {
        "id": "WZYI2HtWkiVc",
        "colab_type": "code",
        "colab": {
          "base_uri": "https://localhost:8080/",
          "height": 318
        },
        "outputId": "90c816a5-bee6-4299-def5-b563ccefd90c"
      },
      "source": [
        "embedding_dim = 50\n",
        "\n",
        "backend.clear_session()\n",
        "model = Sequential()\n",
        "model.add(layers.Embedding(input_dim=vocab_size, output_dim=embedding_dim, input_length=maxlen))\n",
        "model.add(layers.Conv1D(128, 5, activation='relu', kernel_regularizer=l1(0.0001)))\n",
        "model.add(layers.GlobalMaxPooling1D())\n",
        "#model.add(layers.Dropout(0.2))\n",
        "#model.add(layers.Dense(64, activation='relu'))\n",
        "#model.add(BatchNormalization())\n",
        "#model.add(layers.Dropout(0.2))\n",
        "model.add(layers.Dense(10, activation='relu'))\n",
        "model.add(layers.Dense(1, activation='sigmoid'))\n",
        "model.compile(optimizer='adam',\n",
        "              loss='binary_crossentropy',\n",
        "              metrics=['accuracy'])\n",
        "model.summary()"
      ],
      "execution_count": 113,
      "outputs": [
        {
          "output_type": "stream",
          "text": [
            "Model: \"sequential\"\n",
            "_________________________________________________________________\n",
            "Layer (type)                 Output Shape              Param #   \n",
            "=================================================================\n",
            "embedding (Embedding)        (None, 25, 50)            91250     \n",
            "_________________________________________________________________\n",
            "conv1d (Conv1D)              (None, 21, 128)           32128     \n",
            "_________________________________________________________________\n",
            "global_max_pooling1d (Global (None, 128)               0         \n",
            "_________________________________________________________________\n",
            "dense (Dense)                (None, 10)                1290      \n",
            "_________________________________________________________________\n",
            "dense_1 (Dense)              (None, 1)                 11        \n",
            "=================================================================\n",
            "Total params: 124,679\n",
            "Trainable params: 124,679\n",
            "Non-trainable params: 0\n",
            "_________________________________________________________________\n"
          ],
          "name": "stdout"
        }
      ]
    },
    {
      "cell_type": "code",
      "metadata": {
        "id": "o0ykQDzPqNdC",
        "colab_type": "code",
        "colab": {
          "base_uri": "https://localhost:8080/",
          "height": 401
        },
        "outputId": "f5334bf8-e250-4438-e9bd-f8f3e0eab174"
      },
      "source": [
        "early_stop = EarlyStopping(monitor='val_loss', min_delta=0, patience=2, verbose=1, mode='auto', baseline=None, restore_best_weights=False)\n",
        "history = model.fit(x_train_pad, y_train,\n",
        "                    epochs=15,\n",
        "                    batch_size=64,\n",
        "                    verbose=True,\n",
        "                    validation_data=(x_test_pad, y_test),\n",
        "                    callbacks=[early_stop])"
      ],
      "execution_count": 114,
      "outputs": [
        {
          "output_type": "stream",
          "text": [
            "Epoch 1/15\n",
            "13/13 [==============================] - 0s 21ms/step - loss: 0.8146 - accuracy: 0.5163 - val_loss: 0.8025 - val_accuracy: 0.5550\n",
            "Epoch 2/15\n",
            "13/13 [==============================] - 0s 14ms/step - loss: 0.7806 - accuracy: 0.6162 - val_loss: 0.7846 - val_accuracy: 0.4850\n",
            "Epoch 3/15\n",
            "13/13 [==============================] - 0s 14ms/step - loss: 0.7417 - accuracy: 0.7075 - val_loss: 0.7577 - val_accuracy: 0.6200\n",
            "Epoch 4/15\n",
            "13/13 [==============================] - 0s 15ms/step - loss: 0.6909 - accuracy: 0.7738 - val_loss: 0.7299 - val_accuracy: 0.6200\n",
            "Epoch 5/15\n",
            "13/13 [==============================] - 0s 14ms/step - loss: 0.6209 - accuracy: 0.8300 - val_loss: 0.6915 - val_accuracy: 0.6900\n",
            "Epoch 6/15\n",
            "13/13 [==============================] - 0s 14ms/step - loss: 0.5257 - accuracy: 0.8838 - val_loss: 0.6412 - val_accuracy: 0.7250\n",
            "Epoch 7/15\n",
            "13/13 [==============================] - 0s 14ms/step - loss: 0.4100 - accuracy: 0.9588 - val_loss: 0.5746 - val_accuracy: 0.7700\n",
            "Epoch 8/15\n",
            "13/13 [==============================] - 0s 14ms/step - loss: 0.2845 - accuracy: 0.9837 - val_loss: 0.5275 - val_accuracy: 0.7950\n",
            "Epoch 9/15\n",
            "13/13 [==============================] - 0s 14ms/step - loss: 0.1960 - accuracy: 0.9925 - val_loss: 0.5022 - val_accuracy: 0.8000\n",
            "Epoch 10/15\n",
            "13/13 [==============================] - 0s 14ms/step - loss: 0.1520 - accuracy: 0.9925 - val_loss: 0.5211 - val_accuracy: 0.7900\n",
            "Epoch 11/15\n",
            "13/13 [==============================] - 0s 15ms/step - loss: 0.1302 - accuracy: 0.9975 - val_loss: 0.5261 - val_accuracy: 0.8050\n",
            "Epoch 00011: early stopping\n"
          ],
          "name": "stdout"
        }
      ]
    },
    {
      "cell_type": "markdown",
      "metadata": {
        "id": "0MdZIu-uYGHG",
        "colab_type": "text"
      },
      "source": [
        "* As we can see in the below graph, the model is overfitting. \n",
        "* Tried different techniques like Dropout, Batchnormalization, Regularization, but its not improving the outcome"
      ]
    },
    {
      "cell_type": "code",
      "metadata": {
        "id": "EevBFotxnvHC",
        "colab_type": "code",
        "colab": {
          "base_uri": "https://localhost:8080/",
          "height": 279
        },
        "outputId": "34ce9b72-572f-49d9-c5e0-327df74478d1"
      },
      "source": [
        "# plot history\n",
        "# summarize history for accuracy\n",
        "pyplot.plot(history.history['accuracy'], label='train')\n",
        "pyplot.plot(history.history['val_accuracy'], label='test')\n",
        "pyplot.xlabel(\"Epochs\")\n",
        "pyplot.ylabel(\"Accuracy\")\n",
        "pyplot.legend()\n",
        "pyplot.show()"
      ],
      "execution_count": 95,
      "outputs": [
        {
          "output_type": "display_data",
          "data": {
            "image/png": "[encoded data removed]",
            "text/plain": [
              "<Figure size 432x288 with 1 Axes>"
            ]
          },
          "metadata": {
            "tags": [],
            "needs_background": "light"
          }
        }
      ]
    },
    {
      "cell_type": "markdown",
      "metadata": {
        "id": "aqYJaSX-aU4r",
        "colab_type": "text"
      },
      "source": [
        "**Appendix**"
      ]
    },
    {
      "cell_type": "markdown",
      "metadata": {
        "id": "63EDWClomCkq",
        "colab_type": "text"
      },
      "source": [
        "**References**:"
      ]
    },
    {
      "cell_type": "markdown",
      "metadata": {
        "id": "5aVJmebWmC_i",
        "colab_type": "text"
      },
      "source": [
        "http://www.wildml.com/2015/11/understanding-convolutional-neural-networks-for-nlp/\n",
        "\n",
        "https://www.kaggle.com/sanikamal/text-classification-with-python-and-keras\n",
        "\n",
        "https://machinelearningmastery.com/develop-n-gram-multichannel-convolutional-neural-network-sentiment-analysis/\n",
        "\n",
        "uses Glove emedding\n",
        "https://medium.com/saarthi-ai/sentence-classification-using-convolutional-neural-networks-ddad72c7048c\n",
        "\n",
        "https://thedatafrog.com/en/articles/sentiment-analysis-convolutional-network/\n",
        "\n",
        "https://thedatafrog.com/en/articles/text-preprocessing-machine-learning-yelp/\n"
      ]
    },
    {
      "cell_type": "markdown",
      "metadata": {
        "id": "N9UeLZRlXy4T",
        "colab_type": "text"
      },
      "source": [
        "For Future enhancements:\n",
        "\n",
        "Cleanup text (using below code) and retrain the model."
      ]
    },
    {
      "cell_type": "code",
      "metadata": {
        "id": "RazU_Dss_VqR",
        "colab_type": "code",
        "colab": {}
      },
      "source": [
        "stop_words = set(stopwords.words('english'))\n",
        "table = str.maketrans('', '', string.punctuation)"
      ],
      "execution_count": null,
      "outputs": []
    },
    {
      "cell_type": "code",
      "metadata": {
        "id": "B-E2AjBR8gL5",
        "colab_type": "code",
        "colab": {}
      },
      "source": [
        "def clean_doc(doc):\n",
        "\t# split into tokens by white space\n",
        "\ttokens = doc.split()\n",
        "\n",
        "  #remove punctuations\n",
        "\ttokens = [w.translate(table) for w in tokens]\n",
        "\n",
        "\t# remove remaining tokens that are not alphabetic\n",
        "\ttokens = [word for word in tokens if word.isalpha()]\n",
        "\n",
        "\ttokens = [w for w in tokens if  w not in stop_words]\n",
        "\n",
        "\t# filter out short tokens\n",
        "\ttokens = [word for word in tokens if len(word) > 1]\n",
        "\n",
        "\treturn tokens"
      ],
      "execution_count": null,
      "outputs": []
    },
    {
      "cell_type": "code",
      "metadata": {
        "id": "qIvjOTW38m0H",
        "colab_type": "code",
        "colab": {
          "base_uri": "https://localhost:8080/",
          "height": 33
        },
        "outputId": "2e0a4c18-7dbe-4776-df54-bc08a0e29301"
      },
      "source": [
        "X_train1 = [clean_doc(t) for t in X_train]\n",
        "X_test1 = [clean_doc(t) for t in X_test]\n",
        "X_train1[4]"
      ],
      "execution_count": null,
      "outputs": [
        {
          "output_type": "execute_result",
          "data": {
            "text/plain": [
              "['Just', 'lunch', 'great', 'experience']"
            ]
          },
          "metadata": {
            "tags": []
          },
          "execution_count": 77
        }
      ]
    }
  ]
}