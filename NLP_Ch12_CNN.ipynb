{
  "nbformat": 4,
  "nbformat_minor": 0,
  "metadata": {
    "colab": {
      "name": "NLP_Ch12_CNN.ipynb",
      "provenance": [],
      "collapsed_sections": [],
      "authorship_tag": "ABX9TyM1CG+ySeyLsHMdp07ifSwL",
      "include_colab_link": true
    },
    "kernelspec": {
      "name": "python3",
      "display_name": "Python 3"
    }
  },
  "cells": [
    {
      "cell_type": "markdown",
      "metadata": {
        "id": "view-in-github",
        "colab_type": "text"
      },
      "source": [
        "<a href=\"https://colab.research.google.com/github/vignesh-pala/NLP/blob/master/NLP_Ch12_CNN.ipynb\" target=\"_parent\"><img src=\"https://colab.research.google.com/assets/colab-badge.svg\" alt=\"Open In Colab\"/></a>"
      ]
    },
    {
      "cell_type": "markdown",
      "metadata": {
        "id": "9FK_AAcQa8VM",
        "colab_type": "text"
      },
      "source": [
        "**Challenge 12 (NLP with Keras-TF2)**\n",
        "\n",
        "Use the yelp review data set available at https://archive.ics.uci.edu/ml/datasets/Sentiment+Labelled+S...\n",
        "\n",
        "Create a NLP text classification model using CNNs and see if you can achieve more than 80% accuracy on TEST data.\n",
        "\n",
        "Use KerasClassifier (to use k-fold cross validation etc.) and RandomizedSearchCV (to find the best combination of Hyper-parameters) and fine tune the model."
      ]
    },
    {
      "cell_type": "code",
      "metadata": {
        "id": "CM5sHv_AZzdg",
        "colab_type": "code",
        "colab": {
          "base_uri": "https://localhost:8080/",
          "height": 50
        },
        "outputId": "5a9d5762-38b2-4ffd-8d55-8c9186fab36c"
      },
      "source": [
        "import tensorflow \n",
        "from tensorflow import keras\n",
        "import numpy as np\n",
        "import matplotlib.pyplot as plt\n",
        "import seaborn as sns\n",
        "import pandas as pd\n",
        "from tensorflow.keras.datasets import reuters\n",
        "from sklearn.preprocessing import MinMaxScaler\n",
        "from tensorflow.keras.preprocessing.text import Tokenizer\n",
        "from tensorflow.keras.utils import to_categorical\n",
        "from tensorflow.keras import models,layers,regularizers\n",
        "from tensorflow.keras.models import Sequential\n",
        "from tensorflow.keras.callbacks import EarlyStopping\n",
        "from tensorflow.keras.regularizers import l1, l2, l1_l2\n",
        "from tensorflow.keras.layers import Flatten, Dense, BatchNormalization\n",
        "from tensorflow.keras.preprocessing.sequence import pad_sequences\n",
        "\n",
        "from tensorflow.keras.preprocessing.text import Tokenizer\n",
        "from tensorflow.keras import preprocessing\n",
        "from tensorflow.keras import models, layers, backend\n",
        "from keras.utils import np_utils\n",
        "\n",
        "from matplotlib import pyplot\n",
        "from sklearn.preprocessing import MinMaxScaler\n",
        "from sklearn.model_selection import train_test_split\n",
        "\n",
        "from sklearn.feature_extraction.text import CountVectorizer\n",
        "from sklearn.model_selection import RandomizedSearchCV\n",
        "from tensorflow.keras.wrappers.scikit_learn import KerasClassifier\n",
        "from tensorflow.keras.layers import Embedding, Conv1D, GlobalMaxPooling1D, Dense, Dropout\n",
        "\n",
        "import nltk\n",
        "nltk.download('stopwords')\n",
        "import string\n",
        "#stop_words = set(stopwords.words('english'))"
      ],
      "execution_count": 76,
      "outputs": [
        {
          "output_type": "stream",
          "text": [
            "[nltk_data] Downloading package stopwords to /root/nltk_data...\n",
            "[nltk_data]   Package stopwords is already up-to-date!\n"
          ],
          "name": "stdout"
        }
      ]
    },
    {
      "cell_type": "code",
      "metadata": {
        "id": "nu-TT1ycanqp",
        "colab_type": "code",
        "colab": {}
      },
      "source": [
        "# Read input from Google drive\n",
        "df = pd.read_csv('/content/yelp_labelled.txt', names=['sentence', 'label'], sep='\\t')"
      ],
      "execution_count": 39,
      "outputs": []
    },
    {
      "cell_type": "code",
      "metadata": {
        "id": "H29adaNubfW0",
        "colab_type": "code",
        "colab": {
          "base_uri": "https://localhost:8080/",
          "height": 196
        },
        "outputId": "5934cfd8-669e-462b-c63c-5e78d807cf3f"
      },
      "source": [
        "df.head()"
      ],
      "execution_count": 3,
      "outputs": [
        {
          "output_type": "execute_result",
          "data": {
            "text/html": [
              "<div>\n",
              "<style scoped>\n",
              "    .dataframe tbody tr th:only-of-type {\n",
              "        vertical-align: middle;\n",
              "    }\n",
              "\n",
              "    .dataframe tbody tr th {\n",
              "        vertical-align: top;\n",
              "    }\n",
              "\n",
              "    .dataframe thead th {\n",
              "        text-align: right;\n",
              "    }\n",
              "</style>\n",
              "<table border=\"1\" class=\"dataframe\">\n",
              "  <thead>\n",
              "    <tr style=\"text-align: right;\">\n",
              "      <th></th>\n",
              "      <th>sentence</th>\n",
              "      <th>label</th>\n",
              "    </tr>\n",
              "  </thead>\n",
              "  <tbody>\n",
              "    <tr>\n",
              "      <th>0</th>\n",
              "      <td>Wow... Loved this place.</td>\n",
              "      <td>1</td>\n",
              "    </tr>\n",
              "    <tr>\n",
              "      <th>1</th>\n",
              "      <td>Crust is not good.</td>\n",
              "      <td>0</td>\n",
              "    </tr>\n",
              "    <tr>\n",
              "      <th>2</th>\n",
              "      <td>Not tasty and the texture was just nasty.</td>\n",
              "      <td>0</td>\n",
              "    </tr>\n",
              "    <tr>\n",
              "      <th>3</th>\n",
              "      <td>Stopped by during the late May bank holiday of...</td>\n",
              "      <td>1</td>\n",
              "    </tr>\n",
              "    <tr>\n",
              "      <th>4</th>\n",
              "      <td>The selection on the menu was great and so wer...</td>\n",
              "      <td>1</td>\n",
              "    </tr>\n",
              "  </tbody>\n",
              "</table>\n",
              "</div>"
            ],
            "text/plain": [
              "                                            sentence  label\n",
              "0                           Wow... Loved this place.      1\n",
              "1                                 Crust is not good.      0\n",
              "2          Not tasty and the texture was just nasty.      0\n",
              "3  Stopped by during the late May bank holiday of...      1\n",
              "4  The selection on the menu was great and so wer...      1"
            ]
          },
          "metadata": {
            "tags": []
          },
          "execution_count": 3
        }
      ]
    },
    {
      "cell_type": "code",
      "metadata": {
        "id": "S93r31uShzWd",
        "colab_type": "code",
        "colab": {
          "base_uri": "https://localhost:8080/",
          "height": 167
        },
        "outputId": "42072e77-91aa-4e9d-d6e6-71e03318a4b8"
      },
      "source": [
        "# check size of data\n",
        "df.info()"
      ],
      "execution_count": 4,
      "outputs": [
        {
          "output_type": "stream",
          "text": [
            "<class 'pandas.core.frame.DataFrame'>\n",
            "RangeIndex: 1000 entries, 0 to 999\n",
            "Data columns (total 2 columns):\n",
            " #   Column    Non-Null Count  Dtype \n",
            "---  ------    --------------  ----- \n",
            " 0   sentence  1000 non-null   object\n",
            " 1   label     1000 non-null   int64 \n",
            "dtypes: int64(1), object(1)\n",
            "memory usage: 15.8+ KB\n"
          ],
          "name": "stdout"
        }
      ]
    },
    {
      "cell_type": "code",
      "metadata": {
        "id": "79hVWfVwh-nM",
        "colab_type": "code",
        "colab": {
          "base_uri": "https://localhost:8080/",
          "height": 67
        },
        "outputId": "4eef2bbb-c841-47c3-8e94-e3247a167ec7"
      },
      "source": [
        "#check for null values\n",
        "df.isnull().sum()"
      ],
      "execution_count": 5,
      "outputs": [
        {
          "output_type": "execute_result",
          "data": {
            "text/plain": [
              "sentence    0\n",
              "label       0\n",
              "dtype: int64"
            ]
          },
          "metadata": {
            "tags": []
          },
          "execution_count": 5
        }
      ]
    },
    {
      "cell_type": "code",
      "metadata": {
        "id": "Ovs5rcAmboL6",
        "colab_type": "code",
        "colab": {
          "base_uri": "https://localhost:8080/",
          "height": 35
        },
        "outputId": "82077390-7070-4c35-ef11-23cf9b087a34"
      },
      "source": [
        "#seperate sentence and labels\n",
        "sentence = df['sentence'].values\n",
        "label = df['label'].values\n",
        "sentence[0]"
      ],
      "execution_count": 40,
      "outputs": [
        {
          "output_type": "execute_result",
          "data": {
            "application/vnd.google.colaboratory.intrinsic": {
              "type": "string"
            },
            "text/plain": [
              "'Wow... Loved this place.'"
            ]
          },
          "metadata": {
            "tags": []
          },
          "execution_count": 40
        }
      ]
    },
    {
      "cell_type": "code",
      "metadata": {
        "id": "VP8vJD2dG-AU",
        "colab_type": "code",
        "colab": {}
      },
      "source": [
        "# Train Test & Validation Split\n",
        "X_train, X_test, y_train, y_test = train_test_split(sentence, label, test_size=0.2, random_state=42)"
      ],
      "execution_count": 41,
      "outputs": []
    },
    {
      "cell_type": "markdown",
      "metadata": {
        "id": "SMQPvZpXmGS5",
        "colab_type": "text"
      },
      "source": [
        " * Tokenize and Convert to Sequences\n"
      ]
    },
    {
      "cell_type": "code",
      "metadata": {
        "id": "YbKJ0tNghowp",
        "colab_type": "code",
        "colab": {
          "base_uri": "https://localhost:8080/",
          "height": 50
        },
        "outputId": "8f590602-9ceb-443d-b366-485741632106"
      },
      "source": [
        "max_words = 1000\n",
        "\n",
        "tokenizer = Tokenizer(num_words=max_words)\n",
        "tokenizer.fit_on_texts(X_train)\n",
        "\n",
        "x_train_tkn = tokenizer.texts_to_sequences(X_train)\n",
        "x_test_tkn = tokenizer.texts_to_sequences(X_test)\n",
        "#x_val_tkn = tokenizer.texts_to_sequences(X_val)\n",
        "\n",
        "print(X_train[1])\n",
        "print(x_train_tkn[1]) "
      ],
      "execution_count": 42,
      "outputs": [
        {
          "output_type": "stream",
          "text": [
            "An excellent new restaurant by an experienced Frenchman.\n",
            "[46, 144, 370, 66, 61, 46, 773, 774]\n"
          ],
          "name": "stdout"
        }
      ]
    },
    {
      "cell_type": "markdown",
      "metadata": {
        "id": "91UXpRW7m3pN",
        "colab_type": "text"
      },
      "source": [
        " Pad the vector to have fixed length\n",
        "\n",
        "    Note: the max words in the sentences is only around 30, so set maxlen = 30"
      ]
    },
    {
      "cell_type": "code",
      "metadata": {
        "id": "T3zOMLgbjzYJ",
        "colab_type": "code",
        "colab": {}
      },
      "source": [
        "maxlen = 30\n",
        "x_train_pad = preprocessing.sequence.pad_sequences(x_train_tkn, maxlen=maxlen,  padding='post')\n",
        "x_test_pad = preprocessing.sequence.pad_sequences(x_test_tkn, maxlen=maxlen,  padding='post')\n",
        "# x_val_pad = preprocessing.sequence.pad_sequences(x_val_tkn, maxlen=maxlen,  padding='post')"
      ],
      "execution_count": 43,
      "outputs": []
    },
    {
      "cell_type": "markdown",
      "metadata": {
        "id": "C-6nlWdbTmGs",
        "colab_type": "text"
      },
      "source": [
        "See how the sentence is transformed from start to end"
      ]
    },
    {
      "cell_type": "code",
      "metadata": {
        "id": "bSqQVkN4fM-Z",
        "colab_type": "code",
        "colab": {
          "base_uri": "https://localhost:8080/",
          "height": 84
        },
        "outputId": "659dcd4a-0fca-4ce8-b943-7c009d97358b"
      },
      "source": [
        "print(X_train[100])\n",
        "print(x_train_tkn[100])\n",
        "print(x_train_pad[100])"
      ],
      "execution_count": 44,
      "outputs": [
        {
          "output_type": "stream",
          "text": [
            "We waited for thirty minutes to be seated (although there were 8 vacant tables and we were the only folks waiting).\n",
            "[17, 159, 14, 880, 88, 6, 29, 333, 410, 44, 24, 547, 881, 278, 2, 17, 24, 1, 65, 331, 330]\n",
            "[ 17 159  14 880  88   6  29 333 410  44  24 547 881 278   2  17  24   1\n",
            "  65 331 330   0   0   0   0   0   0   0   0   0]\n"
          ],
          "name": "stdout"
        }
      ]
    },
    {
      "cell_type": "code",
      "metadata": {
        "id": "neJnlbhcj9IU",
        "colab_type": "code",
        "colab": {
          "base_uri": "https://localhost:8080/",
          "height": 33
        },
        "outputId": "5cdfa9de-28b4-41d9-cd6d-35cea5f9486a"
      },
      "source": [
        "#Adding 1 because of  reserved 0 index\n",
        "vocab_size = len(tokenizer.word_index) + 1\n",
        "vocab_size"
      ],
      "execution_count": 91,
      "outputs": [
        {
          "output_type": "execute_result",
          "data": {
            "text/plain": [
              "1825"
            ]
          },
          "metadata": {
            "tags": []
          },
          "execution_count": 91
        }
      ]
    },
    {
      "cell_type": "markdown",
      "metadata": {
        "id": "-V0Fkhp3z3Gl",
        "colab_type": "text"
      },
      "source": [
        "**KerasClassifier takes the complete model as a function, so lets build it with all possible parameters**"
      ]
    },
    {
      "cell_type": "code",
      "metadata": {
        "id": "DiTkJujyT7rQ",
        "colab_type": "code",
        "colab": {}
      },
      "source": [
        "def cnn_model(vocab_size, embedding_dim, maxlen, num_filters, kernel_size, l1_penalty, layers ):\n",
        "  model = Sequential()\n",
        "  model.add(Embedding(input_dim=vocab_size, output_dim=embedding_dim, input_length=maxlen))\n",
        "  model.add(Conv1D(num_filters, kernel_size, activation='relu', kernel_regularizer=l1(l1_penalty)))\n",
        "  model.add(GlobalMaxPooling1D())\n",
        "  model.add(Dense(layers, activation='relu'))\n",
        "  model.add(Dense(1, activation='sigmoid'))\n",
        "  model.compile(optimizer='adam',\n",
        "              loss='binary_crossentropy',\n",
        "              metrics=['accuracy'])\n",
        "  return model"
      ],
      "execution_count": 124,
      "outputs": []
    },
    {
      "cell_type": "markdown",
      "metadata": {
        "id": "lceShj4O0Atb",
        "colab_type": "text"
      },
      "source": [
        "**Pass in all possible parameter values based on your reasonable judgement** "
      ]
    },
    {
      "cell_type": "code",
      "metadata": {
        "id": "s3GNWoBrVZTc",
        "colab_type": "code",
        "colab": {}
      },
      "source": [
        "param_grid = dict(vocab_size = [1000,1500,1800,2000],\n",
        "                  embedding_dim = [50,100], \n",
        "                  maxlen = [30,50,100], \n",
        "                  num_filters = [32,64,128], \n",
        "                  kernel_size = [3,5,7], \n",
        "                  l1_penalty = [0.1, 0.01, 0.001, 0.0001], \n",
        "                  layers = [10,32]\n",
        ")"
      ],
      "execution_count": 125,
      "outputs": []
    },
    {
      "cell_type": "markdown",
      "metadata": {
        "id": "aKjUtynC0R-O",
        "colab_type": "text"
      },
      "source": [
        "**Initialize KerasClassifier & RandomizedSearchCV**\n",
        "\n",
        "Note: Here, Epochs, and Batch_Size also can be changed as part of tuning "
      ]
    },
    {
      "cell_type": "code",
      "metadata": {
        "id": "XmW_fPIcWzj9",
        "colab_type": "code",
        "colab": {}
      },
      "source": [
        "model1 = KerasClassifier(build_fn=cnn_model, \n",
        "                        epochs= 5,\n",
        "                        batch_size = 16,\n",
        "                        verbose = False\n",
        "                        )"
      ],
      "execution_count": 126,
      "outputs": []
    },
    {
      "cell_type": "markdown",
      "metadata": {
        "id": "Ku71hg350p_J",
        "colab_type": "text"
      },
      "source": [
        "Note: Similarly, no. of Iterations and Cross Validation also can be changed as part of tuning"
      ]
    },
    {
      "cell_type": "code",
      "metadata": {
        "id": "nTrkhureXZ53",
        "colab_type": "code",
        "colab": {}
      },
      "source": [
        "grid = RandomizedSearchCV(estimator=model1, param_distributions=param_grid, cv=4, verbose=1, n_iter=50)"
      ],
      "execution_count": 127,
      "outputs": []
    },
    {
      "cell_type": "markdown",
      "metadata": {
        "id": "ZfxxP0ORyUvZ",
        "colab_type": "text"
      },
      "source": [
        "**Note:** It appears, the WARNINGS in the below fit method is due to incompatible parameters selection by RandomizedSearchCV. Hence, can be ignored."
      ]
    },
    {
      "cell_type": "code",
      "metadata": {
        "id": "BMNklWjfuWix",
        "colab_type": "code",
        "colab": {
          "base_uri": "https://localhost:8080/",
          "height": 1000
        },
        "outputId": "8cb7435a-f6c6-4175-9744-b7789435b8cf"
      },
      "source": [
        "grid_result = grid.fit(x_train_pad, y_train)"
      ],
      "execution_count": 128,
      "outputs": [
        {
          "output_type": "stream",
          "text": [
            "Fitting 4 folds for each of 50 candidates, totalling 200 fits\n",
            "WARNING:tensorflow:Model was constructed with shape (None, 100) for input Tensor(\"embedding_121_input:0\", shape=(None, 100), dtype=float32), but it was called on an input with incompatible shape (None, 30).\n"
          ],
          "name": "stdout"
        },
        {
          "output_type": "stream",
          "text": [
            "[Parallel(n_jobs=1)]: Using backend SequentialBackend with 1 concurrent workers.\n"
          ],
          "name": "stderr"
        },
        {
          "output_type": "stream",
          "text": [
            "WARNING:tensorflow:Model was constructed with shape (None, 100) for input Tensor(\"embedding_121_input:0\", shape=(None, 100), dtype=float32), but it was called on an input with incompatible shape (None, 30).\n",
            "WARNING:tensorflow:Model was constructed with shape (None, 100) for input Tensor(\"embedding_121_input:0\", shape=(None, 100), dtype=float32), but it was called on an input with incompatible shape (None, 30).\n",
            "WARNING:tensorflow:Model was constructed with shape (None, 100) for input Tensor(\"embedding_122_input:0\", shape=(None, 100), dtype=float32), but it was called on an input with incompatible shape (None, 30).\n",
            "WARNING:tensorflow:Model was constructed with shape (None, 100) for input Tensor(\"embedding_122_input:0\", shape=(None, 100), dtype=float32), but it was called on an input with incompatible shape (None, 30).\n",
            "WARNING:tensorflow:Model was constructed with shape (None, 100) for input Tensor(\"embedding_122_input:0\", shape=(None, 100), dtype=float32), but it was called on an input with incompatible shape (None, 30).\n",
            "WARNING:tensorflow:Model was constructed with shape (None, 100) for input Tensor(\"embedding_123_input:0\", shape=(None, 100), dtype=float32), but it was called on an input with incompatible shape (None, 30).\n",
            "WARNING:tensorflow:Model was constructed with shape (None, 100) for input Tensor(\"embedding_123_input:0\", shape=(None, 100), dtype=float32), but it was called on an input with incompatible shape (None, 30).\n",
            "WARNING:tensorflow:Model was constructed with shape (None, 100) for input Tensor(\"embedding_123_input:0\", shape=(None, 100), dtype=float32), but it was called on an input with incompatible shape (None, 30).\n",
            "WARNING:tensorflow:Model was constructed with shape (None, 100) for input Tensor(\"embedding_124_input:0\", shape=(None, 100), dtype=float32), but it was called on an input with incompatible shape (None, 30).\n",
            "WARNING:tensorflow:Model was constructed with shape (None, 100) for input Tensor(\"embedding_124_input:0\", shape=(None, 100), dtype=float32), but it was called on an input with incompatible shape (None, 30).\n",
            "WARNING:tensorflow:Model was constructed with shape (None, 100) for input Tensor(\"embedding_124_input:0\", shape=(None, 100), dtype=float32), but it was called on an input with incompatible shape (None, 30).\n",
            "WARNING:tensorflow:Model was constructed with shape (None, 50) for input Tensor(\"embedding_133_input:0\", shape=(None, 50), dtype=float32), but it was called on an input with incompatible shape (None, 30).\n",
            "WARNING:tensorflow:Model was constructed with shape (None, 50) for input Tensor(\"embedding_133_input:0\", shape=(None, 50), dtype=float32), but it was called on an input with incompatible shape (None, 30).\n",
            "WARNING:tensorflow:Model was constructed with shape (None, 50) for input Tensor(\"embedding_133_input:0\", shape=(None, 50), dtype=float32), but it was called on an input with incompatible shape (None, 30).\n",
            "WARNING:tensorflow:Model was constructed with shape (None, 50) for input Tensor(\"embedding_134_input:0\", shape=(None, 50), dtype=float32), but it was called on an input with incompatible shape (None, 30).\n",
            "WARNING:tensorflow:Model was constructed with shape (None, 50) for input Tensor(\"embedding_134_input:0\", shape=(None, 50), dtype=float32), but it was called on an input with incompatible shape (None, 30).\n",
            "WARNING:tensorflow:Model was constructed with shape (None, 50) for input Tensor(\"embedding_134_input:0\", shape=(None, 50), dtype=float32), but it was called on an input with incompatible shape (None, 30).\n",
            "WARNING:tensorflow:Model was constructed with shape (None, 50) for input Tensor(\"embedding_135_input:0\", shape=(None, 50), dtype=float32), but it was called on an input with incompatible shape (None, 30).\n",
            "WARNING:tensorflow:Model was constructed with shape (None, 50) for input Tensor(\"embedding_135_input:0\", shape=(None, 50), dtype=float32), but it was called on an input with incompatible shape (None, 30).\n",
            "WARNING:tensorflow:Model was constructed with shape (None, 50) for input Tensor(\"embedding_135_input:0\", shape=(None, 50), dtype=float32), but it was called on an input with incompatible shape (None, 30).\n",
            "WARNING:tensorflow:Model was constructed with shape (None, 50) for input Tensor(\"embedding_136_input:0\", shape=(None, 50), dtype=float32), but it was called on an input with incompatible shape (None, 30).\n",
            "WARNING:tensorflow:Model was constructed with shape (None, 50) for input Tensor(\"embedding_136_input:0\", shape=(None, 50), dtype=float32), but it was called on an input with incompatible shape (None, 30).\n",
            "WARNING:tensorflow:Model was constructed with shape (None, 50) for input Tensor(\"embedding_136_input:0\", shape=(None, 50), dtype=float32), but it was called on an input with incompatible shape (None, 30).\n",
            "WARNING:tensorflow:Model was constructed with shape (None, 50) for input Tensor(\"embedding_137_input:0\", shape=(None, 50), dtype=float32), but it was called on an input with incompatible shape (None, 30).\n",
            "WARNING:tensorflow:Model was constructed with shape (None, 50) for input Tensor(\"embedding_137_input:0\", shape=(None, 50), dtype=float32), but it was called on an input with incompatible shape (None, 30).\n",
            "WARNING:tensorflow:Model was constructed with shape (None, 50) for input Tensor(\"embedding_137_input:0\", shape=(None, 50), dtype=float32), but it was called on an input with incompatible shape (None, 30).\n",
            "WARNING:tensorflow:Model was constructed with shape (None, 50) for input Tensor(\"embedding_138_input:0\", shape=(None, 50), dtype=float32), but it was called on an input with incompatible shape (None, 30).\n",
            "WARNING:tensorflow:Model was constructed with shape (None, 50) for input Tensor(\"embedding_138_input:0\", shape=(None, 50), dtype=float32), but it was called on an input with incompatible shape (None, 30).\n",
            "WARNING:tensorflow:Model was constructed with shape (None, 50) for input Tensor(\"embedding_138_input:0\", shape=(None, 50), dtype=float32), but it was called on an input with incompatible shape (None, 30).\n",
            "WARNING:tensorflow:Model was constructed with shape (None, 50) for input Tensor(\"embedding_139_input:0\", shape=(None, 50), dtype=float32), but it was called on an input with incompatible shape (None, 30).\n",
            "WARNING:tensorflow:Model was constructed with shape (None, 50) for input Tensor(\"embedding_139_input:0\", shape=(None, 50), dtype=float32), but it was called on an input with incompatible shape (None, 30).\n",
            "WARNING:tensorflow:Model was constructed with shape (None, 50) for input Tensor(\"embedding_139_input:0\", shape=(None, 50), dtype=float32), but it was called on an input with incompatible shape (None, 30).\n",
            "WARNING:tensorflow:Model was constructed with shape (None, 50) for input Tensor(\"embedding_140_input:0\", shape=(None, 50), dtype=float32), but it was called on an input with incompatible shape (None, 30).\n",
            "WARNING:tensorflow:Model was constructed with shape (None, 50) for input Tensor(\"embedding_140_input:0\", shape=(None, 50), dtype=float32), but it was called on an input with incompatible shape (None, 30).\n",
            "WARNING:tensorflow:Model was constructed with shape (None, 50) for input Tensor(\"embedding_140_input:0\", shape=(None, 50), dtype=float32), but it was called on an input with incompatible shape (None, 30).\n",
            "WARNING:tensorflow:Model was constructed with shape (None, 100) for input Tensor(\"embedding_145_input:0\", shape=(None, 100), dtype=float32), but it was called on an input with incompatible shape (None, 30).\n",
            "WARNING:tensorflow:Model was constructed with shape (None, 100) for input Tensor(\"embedding_145_input:0\", shape=(None, 100), dtype=float32), but it was called on an input with incompatible shape (None, 30).\n",
            "WARNING:tensorflow:Model was constructed with shape (None, 100) for input Tensor(\"embedding_145_input:0\", shape=(None, 100), dtype=float32), but it was called on an input with incompatible shape (None, 30).\n",
            "WARNING:tensorflow:Model was constructed with shape (None, 100) for input Tensor(\"embedding_146_input:0\", shape=(None, 100), dtype=float32), but it was called on an input with incompatible shape (None, 30).\n",
            "WARNING:tensorflow:Model was constructed with shape (None, 100) for input Tensor(\"embedding_146_input:0\", shape=(None, 100), dtype=float32), but it was called on an input with incompatible shape (None, 30).\n",
            "WARNING:tensorflow:Model was constructed with shape (None, 100) for input Tensor(\"embedding_146_input:0\", shape=(None, 100), dtype=float32), but it was called on an input with incompatible shape (None, 30).\n",
            "WARNING:tensorflow:Model was constructed with shape (None, 100) for input Tensor(\"embedding_147_input:0\", shape=(None, 100), dtype=float32), but it was called on an input with incompatible shape (None, 30).\n",
            "WARNING:tensorflow:Model was constructed with shape (None, 100) for input Tensor(\"embedding_147_input:0\", shape=(None, 100), dtype=float32), but it was called on an input with incompatible shape (None, 30).\n",
            "WARNING:tensorflow:Model was constructed with shape (None, 100) for input Tensor(\"embedding_147_input:0\", shape=(None, 100), dtype=float32), but it was called on an input with incompatible shape (None, 30).\n",
            "WARNING:tensorflow:Model was constructed with shape (None, 100) for input Tensor(\"embedding_148_input:0\", shape=(None, 100), dtype=float32), but it was called on an input with incompatible shape (None, 30).\n",
            "WARNING:tensorflow:Model was constructed with shape (None, 100) for input Tensor(\"embedding_148_input:0\", shape=(None, 100), dtype=float32), but it was called on an input with incompatible shape (None, 30).\n",
            "WARNING:tensorflow:Model was constructed with shape (None, 100) for input Tensor(\"embedding_148_input:0\", shape=(None, 100), dtype=float32), but it was called on an input with incompatible shape (None, 30).\n",
            "WARNING:tensorflow:Model was constructed with shape (None, 100) for input Tensor(\"embedding_161_input:0\", shape=(None, 100), dtype=float32), but it was called on an input with incompatible shape (None, 30).\n",
            "WARNING:tensorflow:Model was constructed with shape (None, 100) for input Tensor(\"embedding_161_input:0\", shape=(None, 100), dtype=float32), but it was called on an input with incompatible shape (None, 30).\n",
            "WARNING:tensorflow:Model was constructed with shape (None, 100) for input Tensor(\"embedding_161_input:0\", shape=(None, 100), dtype=float32), but it was called on an input with incompatible shape (None, 30).\n",
            "WARNING:tensorflow:Model was constructed with shape (None, 100) for input Tensor(\"embedding_162_input:0\", shape=(None, 100), dtype=float32), but it was called on an input with incompatible shape (None, 30).\n",
            "WARNING:tensorflow:Model was constructed with shape (None, 100) for input Tensor(\"embedding_162_input:0\", shape=(None, 100), dtype=float32), but it was called on an input with incompatible shape (None, 30).\n",
            "WARNING:tensorflow:Model was constructed with shape (None, 100) for input Tensor(\"embedding_162_input:0\", shape=(None, 100), dtype=float32), but it was called on an input with incompatible shape (None, 30).\n",
            "WARNING:tensorflow:Model was constructed with shape (None, 100) for input Tensor(\"embedding_163_input:0\", shape=(None, 100), dtype=float32), but it was called on an input with incompatible shape (None, 30).\n",
            "WARNING:tensorflow:Model was constructed with shape (None, 100) for input Tensor(\"embedding_163_input:0\", shape=(None, 100), dtype=float32), but it was called on an input with incompatible shape (None, 30).\n",
            "WARNING:tensorflow:Model was constructed with shape (None, 100) for input Tensor(\"embedding_163_input:0\", shape=(None, 100), dtype=float32), but it was called on an input with incompatible shape (None, 30).\n",
            "WARNING:tensorflow:Model was constructed with shape (None, 100) for input Tensor(\"embedding_164_input:0\", shape=(None, 100), dtype=float32), but it was called on an input with incompatible shape (None, 30).\n",
            "WARNING:tensorflow:Model was constructed with shape (None, 100) for input Tensor(\"embedding_164_input:0\", shape=(None, 100), dtype=float32), but it was called on an input with incompatible shape (None, 30).\n",
            "WARNING:tensorflow:Model was constructed with shape (None, 100) for input Tensor(\"embedding_164_input:0\", shape=(None, 100), dtype=float32), but it was called on an input with incompatible shape (None, 30).\n",
            "WARNING:tensorflow:Model was constructed with shape (None, 100) for input Tensor(\"embedding_165_input:0\", shape=(None, 100), dtype=float32), but it was called on an input with incompatible shape (None, 30).\n",
            "WARNING:tensorflow:Model was constructed with shape (None, 100) for input Tensor(\"embedding_165_input:0\", shape=(None, 100), dtype=float32), but it was called on an input with incompatible shape (None, 30).\n",
            "WARNING:tensorflow:Model was constructed with shape (None, 100) for input Tensor(\"embedding_165_input:0\", shape=(None, 100), dtype=float32), but it was called on an input with incompatible shape (None, 30).\n",
            "WARNING:tensorflow:Model was constructed with shape (None, 100) for input Tensor(\"embedding_166_input:0\", shape=(None, 100), dtype=float32), but it was called on an input with incompatible shape (None, 30).\n",
            "WARNING:tensorflow:Model was constructed with shape (None, 100) for input Tensor(\"embedding_166_input:0\", shape=(None, 100), dtype=float32), but it was called on an input with incompatible shape (None, 30).\n",
            "WARNING:tensorflow:Model was constructed with shape (None, 100) for input Tensor(\"embedding_166_input:0\", shape=(None, 100), dtype=float32), but it was called on an input with incompatible shape (None, 30).\n",
            "WARNING:tensorflow:Model was constructed with shape (None, 100) for input Tensor(\"embedding_167_input:0\", shape=(None, 100), dtype=float32), but it was called on an input with incompatible shape (None, 30).\n",
            "WARNING:tensorflow:Model was constructed with shape (None, 100) for input Tensor(\"embedding_167_input:0\", shape=(None, 100), dtype=float32), but it was called on an input with incompatible shape (None, 30).\n",
            "WARNING:tensorflow:Model was constructed with shape (None, 100) for input Tensor(\"embedding_167_input:0\", shape=(None, 100), dtype=float32), but it was called on an input with incompatible shape (None, 30).\n",
            "WARNING:tensorflow:Model was constructed with shape (None, 100) for input Tensor(\"embedding_168_input:0\", shape=(None, 100), dtype=float32), but it was called on an input with incompatible shape (None, 30).\n",
            "WARNING:tensorflow:Model was constructed with shape (None, 100) for input Tensor(\"embedding_168_input:0\", shape=(None, 100), dtype=float32), but it was called on an input with incompatible shape (None, 30).\n",
            "WARNING:tensorflow:Model was constructed with shape (None, 100) for input Tensor(\"embedding_168_input:0\", shape=(None, 100), dtype=float32), but it was called on an input with incompatible shape (None, 30).\n",
            "WARNING:tensorflow:Model was constructed with shape (None, 50) for input Tensor(\"embedding_169_input:0\", shape=(None, 50), dtype=float32), but it was called on an input with incompatible shape (None, 30).\n",
            "WARNING:tensorflow:Model was constructed with shape (None, 50) for input Tensor(\"embedding_169_input:0\", shape=(None, 50), dtype=float32), but it was called on an input with incompatible shape (None, 30).\n",
            "WARNING:tensorflow:Model was constructed with shape (None, 50) for input Tensor(\"embedding_169_input:0\", shape=(None, 50), dtype=float32), but it was called on an input with incompatible shape (None, 30).\n",
            "WARNING:tensorflow:Model was constructed with shape (None, 50) for input Tensor(\"embedding_170_input:0\", shape=(None, 50), dtype=float32), but it was called on an input with incompatible shape (None, 30).\n",
            "WARNING:tensorflow:Model was constructed with shape (None, 50) for input Tensor(\"embedding_170_input:0\", shape=(None, 50), dtype=float32), but it was called on an input with incompatible shape (None, 30).\n",
            "WARNING:tensorflow:Model was constructed with shape (None, 50) for input Tensor(\"embedding_170_input:0\", shape=(None, 50), dtype=float32), but it was called on an input with incompatible shape (None, 30).\n",
            "WARNING:tensorflow:Model was constructed with shape (None, 50) for input Tensor(\"embedding_171_input:0\", shape=(None, 50), dtype=float32), but it was called on an input with incompatible shape (None, 30).\n",
            "WARNING:tensorflow:Model was constructed with shape (None, 50) for input Tensor(\"embedding_171_input:0\", shape=(None, 50), dtype=float32), but it was called on an input with incompatible shape (None, 30).\n",
            "WARNING:tensorflow:Model was constructed with shape (None, 50) for input Tensor(\"embedding_171_input:0\", shape=(None, 50), dtype=float32), but it was called on an input with incompatible shape (None, 30).\n",
            "WARNING:tensorflow:Model was constructed with shape (None, 50) for input Tensor(\"embedding_172_input:0\", shape=(None, 50), dtype=float32), but it was called on an input with incompatible shape (None, 30).\n",
            "WARNING:tensorflow:Model was constructed with shape (None, 50) for input Tensor(\"embedding_172_input:0\", shape=(None, 50), dtype=float32), but it was called on an input with incompatible shape (None, 30).\n",
            "WARNING:tensorflow:Model was constructed with shape (None, 50) for input Tensor(\"embedding_172_input:0\", shape=(None, 50), dtype=float32), but it was called on an input with incompatible shape (None, 30).\n",
            "WARNING:tensorflow:Model was constructed with shape (None, 100) for input Tensor(\"embedding_173_input:0\", shape=(None, 100), dtype=float32), but it was called on an input with incompatible shape (None, 30).\n",
            "WARNING:tensorflow:Model was constructed with shape (None, 100) for input Tensor(\"embedding_173_input:0\", shape=(None, 100), dtype=float32), but it was called on an input with incompatible shape (None, 30).\n",
            "WARNING:tensorflow:Model was constructed with shape (None, 100) for input Tensor(\"embedding_173_input:0\", shape=(None, 100), dtype=float32), but it was called on an input with incompatible shape (None, 30).\n",
            "WARNING:tensorflow:Model was constructed with shape (None, 100) for input Tensor(\"embedding_174_input:0\", shape=(None, 100), dtype=float32), but it was called on an input with incompatible shape (None, 30).\n",
            "WARNING:tensorflow:Model was constructed with shape (None, 100) for input Tensor(\"embedding_174_input:0\", shape=(None, 100), dtype=float32), but it was called on an input with incompatible shape (None, 30).\n",
            "WARNING:tensorflow:Model was constructed with shape (None, 100) for input Tensor(\"embedding_174_input:0\", shape=(None, 100), dtype=float32), but it was called on an input with incompatible shape (None, 30).\n",
            "WARNING:tensorflow:Model was constructed with shape (None, 100) for input Tensor(\"embedding_175_input:0\", shape=(None, 100), dtype=float32), but it was called on an input with incompatible shape (None, 30).\n",
            "WARNING:tensorflow:Model was constructed with shape (None, 100) for input Tensor(\"embedding_175_input:0\", shape=(None, 100), dtype=float32), but it was called on an input with incompatible shape (None, 30).\n",
            "WARNING:tensorflow:Model was constructed with shape (None, 100) for input Tensor(\"embedding_175_input:0\", shape=(None, 100), dtype=float32), but it was called on an input with incompatible shape (None, 30).\n",
            "WARNING:tensorflow:Model was constructed with shape (None, 100) for input Tensor(\"embedding_176_input:0\", shape=(None, 100), dtype=float32), but it was called on an input with incompatible shape (None, 30).\n",
            "WARNING:tensorflow:Model was constructed with shape (None, 100) for input Tensor(\"embedding_176_input:0\", shape=(None, 100), dtype=float32), but it was called on an input with incompatible shape (None, 30).\n",
            "WARNING:tensorflow:Model was constructed with shape (None, 100) for input Tensor(\"embedding_176_input:0\", shape=(None, 100), dtype=float32), but it was called on an input with incompatible shape (None, 30).\n",
            "WARNING:tensorflow:Model was constructed with shape (None, 100) for input Tensor(\"embedding_177_input:0\", shape=(None, 100), dtype=float32), but it was called on an input with incompatible shape (None, 30).\n",
            "WARNING:tensorflow:Model was constructed with shape (None, 100) for input Tensor(\"embedding_177_input:0\", shape=(None, 100), dtype=float32), but it was called on an input with incompatible shape (None, 30).\n",
            "WARNING:tensorflow:Model was constructed with shape (None, 100) for input Tensor(\"embedding_177_input:0\", shape=(None, 100), dtype=float32), but it was called on an input with incompatible shape (None, 30).\n",
            "WARNING:tensorflow:Model was constructed with shape (None, 100) for input Tensor(\"embedding_178_input:0\", shape=(None, 100), dtype=float32), but it was called on an input with incompatible shape (None, 30).\n",
            "WARNING:tensorflow:Model was constructed with shape (None, 100) for input Tensor(\"embedding_178_input:0\", shape=(None, 100), dtype=float32), but it was called on an input with incompatible shape (None, 30).\n",
            "WARNING:tensorflow:Model was constructed with shape (None, 100) for input Tensor(\"embedding_178_input:0\", shape=(None, 100), dtype=float32), but it was called on an input with incompatible shape (None, 30).\n",
            "WARNING:tensorflow:Model was constructed with shape (None, 100) for input Tensor(\"embedding_179_input:0\", shape=(None, 100), dtype=float32), but it was called on an input with incompatible shape (None, 30).\n",
            "WARNING:tensorflow:Model was constructed with shape (None, 100) for input Tensor(\"embedding_179_input:0\", shape=(None, 100), dtype=float32), but it was called on an input with incompatible shape (None, 30).\n",
            "WARNING:tensorflow:Model was constructed with shape (None, 100) for input Tensor(\"embedding_179_input:0\", shape=(None, 100), dtype=float32), but it was called on an input with incompatible shape (None, 30).\n",
            "WARNING:tensorflow:Model was constructed with shape (None, 100) for input Tensor(\"embedding_180_input:0\", shape=(None, 100), dtype=float32), but it was called on an input with incompatible shape (None, 30).\n",
            "WARNING:tensorflow:Model was constructed with shape (None, 100) for input Tensor(\"embedding_180_input:0\", shape=(None, 100), dtype=float32), but it was called on an input with incompatible shape (None, 30).\n",
            "WARNING:tensorflow:Model was constructed with shape (None, 100) for input Tensor(\"embedding_180_input:0\", shape=(None, 100), dtype=float32), but it was called on an input with incompatible shape (None, 30).\n",
            "WARNING:tensorflow:Model was constructed with shape (None, 100) for input Tensor(\"embedding_181_input:0\", shape=(None, 100), dtype=float32), but it was called on an input with incompatible shape (None, 30).\n",
            "WARNING:tensorflow:Model was constructed with shape (None, 100) for input Tensor(\"embedding_181_input:0\", shape=(None, 100), dtype=float32), but it was called on an input with incompatible shape (None, 30).\n",
            "WARNING:tensorflow:Model was constructed with shape (None, 100) for input Tensor(\"embedding_181_input:0\", shape=(None, 100), dtype=float32), but it was called on an input with incompatible shape (None, 30).\n",
            "WARNING:tensorflow:Model was constructed with shape (None, 100) for input Tensor(\"embedding_182_input:0\", shape=(None, 100), dtype=float32), but it was called on an input with incompatible shape (None, 30).\n",
            "WARNING:tensorflow:Model was constructed with shape (None, 100) for input Tensor(\"embedding_182_input:0\", shape=(None, 100), dtype=float32), but it was called on an input with incompatible shape (None, 30).\n",
            "WARNING:tensorflow:Model was constructed with shape (None, 100) for input Tensor(\"embedding_182_input:0\", shape=(None, 100), dtype=float32), but it was called on an input with incompatible shape (None, 30).\n",
            "WARNING:tensorflow:Model was constructed with shape (None, 100) for input Tensor(\"embedding_183_input:0\", shape=(None, 100), dtype=float32), but it was called on an input with incompatible shape (None, 30).\n",
            "WARNING:tensorflow:Model was constructed with shape (None, 100) for input Tensor(\"embedding_183_input:0\", shape=(None, 100), dtype=float32), but it was called on an input with incompatible shape (None, 30).\n",
            "WARNING:tensorflow:Model was constructed with shape (None, 100) for input Tensor(\"embedding_183_input:0\", shape=(None, 100), dtype=float32), but it was called on an input with incompatible shape (None, 30).\n",
            "WARNING:tensorflow:Model was constructed with shape (None, 100) for input Tensor(\"embedding_184_input:0\", shape=(None, 100), dtype=float32), but it was called on an input with incompatible shape (None, 30).\n",
            "WARNING:tensorflow:Model was constructed with shape (None, 100) for input Tensor(\"embedding_184_input:0\", shape=(None, 100), dtype=float32), but it was called on an input with incompatible shape (None, 30).\n",
            "WARNING:tensorflow:Model was constructed with shape (None, 100) for input Tensor(\"embedding_184_input:0\", shape=(None, 100), dtype=float32), but it was called on an input with incompatible shape (None, 30).\n",
            "WARNING:tensorflow:Model was constructed with shape (None, 50) for input Tensor(\"embedding_189_input:0\", shape=(None, 50), dtype=float32), but it was called on an input with incompatible shape (None, 30).\n",
            "WARNING:tensorflow:Model was constructed with shape (None, 50) for input Tensor(\"embedding_189_input:0\", shape=(None, 50), dtype=float32), but it was called on an input with incompatible shape (None, 30).\n",
            "WARNING:tensorflow:Model was constructed with shape (None, 50) for input Tensor(\"embedding_189_input:0\", shape=(None, 50), dtype=float32), but it was called on an input with incompatible shape (None, 30).\n",
            "WARNING:tensorflow:Model was constructed with shape (None, 50) for input Tensor(\"embedding_190_input:0\", shape=(None, 50), dtype=float32), but it was called on an input with incompatible shape (None, 30).\n",
            "WARNING:tensorflow:Model was constructed with shape (None, 50) for input Tensor(\"embedding_190_input:0\", shape=(None, 50), dtype=float32), but it was called on an input with incompatible shape (None, 30).\n",
            "WARNING:tensorflow:Model was constructed with shape (None, 50) for input Tensor(\"embedding_190_input:0\", shape=(None, 50), dtype=float32), but it was called on an input with incompatible shape (None, 30).\n",
            "WARNING:tensorflow:Model was constructed with shape (None, 50) for input Tensor(\"embedding_191_input:0\", shape=(None, 50), dtype=float32), but it was called on an input with incompatible shape (None, 30).\n",
            "WARNING:tensorflow:Model was constructed with shape (None, 50) for input Tensor(\"embedding_191_input:0\", shape=(None, 50), dtype=float32), but it was called on an input with incompatible shape (None, 30).\n",
            "WARNING:tensorflow:Model was constructed with shape (None, 50) for input Tensor(\"embedding_191_input:0\", shape=(None, 50), dtype=float32), but it was called on an input with incompatible shape (None, 30).\n",
            "WARNING:tensorflow:Model was constructed with shape (None, 50) for input Tensor(\"embedding_192_input:0\", shape=(None, 50), dtype=float32), but it was called on an input with incompatible shape (None, 30).\n",
            "WARNING:tensorflow:Model was constructed with shape (None, 50) for input Tensor(\"embedding_192_input:0\", shape=(None, 50), dtype=float32), but it was called on an input with incompatible shape (None, 30).\n",
            "WARNING:tensorflow:Model was constructed with shape (None, 50) for input Tensor(\"embedding_192_input:0\", shape=(None, 50), dtype=float32), but it was called on an input with incompatible shape (None, 30).\n",
            "WARNING:tensorflow:Model was constructed with shape (None, 50) for input Tensor(\"embedding_193_input:0\", shape=(None, 50), dtype=float32), but it was called on an input with incompatible shape (None, 30).\n",
            "WARNING:tensorflow:Model was constructed with shape (None, 50) for input Tensor(\"embedding_193_input:0\", shape=(None, 50), dtype=float32), but it was called on an input with incompatible shape (None, 30).\n",
            "WARNING:tensorflow:Model was constructed with shape (None, 50) for input Tensor(\"embedding_193_input:0\", shape=(None, 50), dtype=float32), but it was called on an input with incompatible shape (None, 30).\n",
            "WARNING:tensorflow:Model was constructed with shape (None, 50) for input Tensor(\"embedding_194_input:0\", shape=(None, 50), dtype=float32), but it was called on an input with incompatible shape (None, 30).\n",
            "WARNING:tensorflow:Model was constructed with shape (None, 50) for input Tensor(\"embedding_194_input:0\", shape=(None, 50), dtype=float32), but it was called on an input with incompatible shape (None, 30).\n",
            "WARNING:tensorflow:Model was constructed with shape (None, 50) for input Tensor(\"embedding_194_input:0\", shape=(None, 50), dtype=float32), but it was called on an input with incompatible shape (None, 30).\n",
            "WARNING:tensorflow:Model was constructed with shape (None, 50) for input Tensor(\"embedding_195_input:0\", shape=(None, 50), dtype=float32), but it was called on an input with incompatible shape (None, 30).\n",
            "WARNING:tensorflow:Model was constructed with shape (None, 50) for input Tensor(\"embedding_195_input:0\", shape=(None, 50), dtype=float32), but it was called on an input with incompatible shape (None, 30).\n",
            "WARNING:tensorflow:Model was constructed with shape (None, 50) for input Tensor(\"embedding_195_input:0\", shape=(None, 50), dtype=float32), but it was called on an input with incompatible shape (None, 30).\n",
            "WARNING:tensorflow:Model was constructed with shape (None, 50) for input Tensor(\"embedding_196_input:0\", shape=(None, 50), dtype=float32), but it was called on an input with incompatible shape (None, 30).\n",
            "WARNING:tensorflow:Model was constructed with shape (None, 50) for input Tensor(\"embedding_196_input:0\", shape=(None, 50), dtype=float32), but it was called on an input with incompatible shape (None, 30).\n",
            "WARNING:tensorflow:Model was constructed with shape (None, 50) for input Tensor(\"embedding_196_input:0\", shape=(None, 50), dtype=float32), but it was called on an input with incompatible shape (None, 30).\n",
            "WARNING:tensorflow:Model was constructed with shape (None, 100) for input Tensor(\"embedding_197_input:0\", shape=(None, 100), dtype=float32), but it was called on an input with incompatible shape (None, 30).\n",
            "WARNING:tensorflow:Model was constructed with shape (None, 100) for input Tensor(\"embedding_197_input:0\", shape=(None, 100), dtype=float32), but it was called on an input with incompatible shape (None, 30).\n",
            "WARNING:tensorflow:Model was constructed with shape (None, 100) for input Tensor(\"embedding_197_input:0\", shape=(None, 100), dtype=float32), but it was called on an input with incompatible shape (None, 30).\n",
            "WARNING:tensorflow:Model was constructed with shape (None, 100) for input Tensor(\"embedding_198_input:0\", shape=(None, 100), dtype=float32), but it was called on an input with incompatible shape (None, 30).\n",
            "WARNING:tensorflow:Model was constructed with shape (None, 100) for input Tensor(\"embedding_198_input:0\", shape=(None, 100), dtype=float32), but it was called on an input with incompatible shape (None, 30).\n",
            "WARNING:tensorflow:Model was constructed with shape (None, 100) for input Tensor(\"embedding_198_input:0\", shape=(None, 100), dtype=float32), but it was called on an input with incompatible shape (None, 30).\n",
            "WARNING:tensorflow:Model was constructed with shape (None, 100) for input Tensor(\"embedding_199_input:0\", shape=(None, 100), dtype=float32), but it was called on an input with incompatible shape (None, 30).\n",
            "WARNING:tensorflow:Model was constructed with shape (None, 100) for input Tensor(\"embedding_199_input:0\", shape=(None, 100), dtype=float32), but it was called on an input with incompatible shape (None, 30).\n",
            "WARNING:tensorflow:Model was constructed with shape (None, 100) for input Tensor(\"embedding_199_input:0\", shape=(None, 100), dtype=float32), but it was called on an input with incompatible shape (None, 30).\n",
            "WARNING:tensorflow:Model was constructed with shape (None, 100) for input Tensor(\"embedding_200_input:0\", shape=(None, 100), dtype=float32), but it was called on an input with incompatible shape (None, 30).\n",
            "WARNING:tensorflow:Model was constructed with shape (None, 100) for input Tensor(\"embedding_200_input:0\", shape=(None, 100), dtype=float32), but it was called on an input with incompatible shape (None, 30).\n",
            "WARNING:tensorflow:Model was constructed with shape (None, 100) for input Tensor(\"embedding_200_input:0\", shape=(None, 100), dtype=float32), but it was called on an input with incompatible shape (None, 30).\n",
            "WARNING:tensorflow:Model was constructed with shape (None, 50) for input Tensor(\"embedding_205_input:0\", shape=(None, 50), dtype=float32), but it was called on an input with incompatible shape (None, 30).\n",
            "WARNING:tensorflow:Model was constructed with shape (None, 50) for input Tensor(\"embedding_205_input:0\", shape=(None, 50), dtype=float32), but it was called on an input with incompatible shape (None, 30).\n",
            "WARNING:tensorflow:Model was constructed with shape (None, 50) for input Tensor(\"embedding_205_input:0\", shape=(None, 50), dtype=float32), but it was called on an input with incompatible shape (None, 30).\n",
            "WARNING:tensorflow:Model was constructed with shape (None, 50) for input Tensor(\"embedding_206_input:0\", shape=(None, 50), dtype=float32), but it was called on an input with incompatible shape (None, 30).\n",
            "WARNING:tensorflow:Model was constructed with shape (None, 50) for input Tensor(\"embedding_206_input:0\", shape=(None, 50), dtype=float32), but it was called on an input with incompatible shape (None, 30).\n",
            "WARNING:tensorflow:Model was constructed with shape (None, 50) for input Tensor(\"embedding_206_input:0\", shape=(None, 50), dtype=float32), but it was called on an input with incompatible shape (None, 30).\n",
            "WARNING:tensorflow:Model was constructed with shape (None, 50) for input Tensor(\"embedding_207_input:0\", shape=(None, 50), dtype=float32), but it was called on an input with incompatible shape (None, 30).\n",
            "WARNING:tensorflow:Model was constructed with shape (None, 50) for input Tensor(\"embedding_207_input:0\", shape=(None, 50), dtype=float32), but it was called on an input with incompatible shape (None, 30).\n",
            "WARNING:tensorflow:Model was constructed with shape (None, 50) for input Tensor(\"embedding_207_input:0\", shape=(None, 50), dtype=float32), but it was called on an input with incompatible shape (None, 30).\n",
            "WARNING:tensorflow:Model was constructed with shape (None, 50) for input Tensor(\"embedding_208_input:0\", shape=(None, 50), dtype=float32), but it was called on an input with incompatible shape (None, 30).\n",
            "WARNING:tensorflow:Model was constructed with shape (None, 50) for input Tensor(\"embedding_208_input:0\", shape=(None, 50), dtype=float32), but it was called on an input with incompatible shape (None, 30).\n",
            "WARNING:tensorflow:Model was constructed with shape (None, 50) for input Tensor(\"embedding_208_input:0\", shape=(None, 50), dtype=float32), but it was called on an input with incompatible shape (None, 30).\n",
            "WARNING:tensorflow:Model was constructed with shape (None, 100) for input Tensor(\"embedding_209_input:0\", shape=(None, 100), dtype=float32), but it was called on an input with incompatible shape (None, 30).\n",
            "WARNING:tensorflow:Model was constructed with shape (None, 100) for input Tensor(\"embedding_209_input:0\", shape=(None, 100), dtype=float32), but it was called on an input with incompatible shape (None, 30).\n",
            "WARNING:tensorflow:Model was constructed with shape (None, 100) for input Tensor(\"embedding_209_input:0\", shape=(None, 100), dtype=float32), but it was called on an input with incompatible shape (None, 30).\n",
            "WARNING:tensorflow:Model was constructed with shape (None, 100) for input Tensor(\"embedding_210_input:0\", shape=(None, 100), dtype=float32), but it was called on an input with incompatible shape (None, 30).\n",
            "WARNING:tensorflow:Model was constructed with shape (None, 100) for input Tensor(\"embedding_210_input:0\", shape=(None, 100), dtype=float32), but it was called on an input with incompatible shape (None, 30).\n",
            "WARNING:tensorflow:Model was constructed with shape (None, 100) for input Tensor(\"embedding_210_input:0\", shape=(None, 100), dtype=float32), but it was called on an input with incompatible shape (None, 30).\n",
            "WARNING:tensorflow:Model was constructed with shape (None, 100) for input Tensor(\"embedding_211_input:0\", shape=(None, 100), dtype=float32), but it was called on an input with incompatible shape (None, 30).\n",
            "WARNING:tensorflow:Model was constructed with shape (None, 100) for input Tensor(\"embedding_211_input:0\", shape=(None, 100), dtype=float32), but it was called on an input with incompatible shape (None, 30).\n",
            "WARNING:tensorflow:Model was constructed with shape (None, 100) for input Tensor(\"embedding_211_input:0\", shape=(None, 100), dtype=float32), but it was called on an input with incompatible shape (None, 30).\n",
            "WARNING:tensorflow:Model was constructed with shape (None, 100) for input Tensor(\"embedding_212_input:0\", shape=(None, 100), dtype=float32), but it was called on an input with incompatible shape (None, 30).\n",
            "WARNING:tensorflow:Model was constructed with shape (None, 100) for input Tensor(\"embedding_212_input:0\", shape=(None, 100), dtype=float32), but it was called on an input with incompatible shape (None, 30).\n",
            "WARNING:tensorflow:Model was constructed with shape (None, 100) for input Tensor(\"embedding_212_input:0\", shape=(None, 100), dtype=float32), but it was called on an input with incompatible shape (None, 30).\n",
            "WARNING:tensorflow:Model was constructed with shape (None, 50) for input Tensor(\"embedding_213_input:0\", shape=(None, 50), dtype=float32), but it was called on an input with incompatible shape (None, 30).\n",
            "WARNING:tensorflow:Model was constructed with shape (None, 50) for input Tensor(\"embedding_213_input:0\", shape=(None, 50), dtype=float32), but it was called on an input with incompatible shape (None, 30).\n",
            "WARNING:tensorflow:Model was constructed with shape (None, 50) for input Tensor(\"embedding_213_input:0\", shape=(None, 50), dtype=float32), but it was called on an input with incompatible shape (None, 30).\n",
            "WARNING:tensorflow:Model was constructed with shape (None, 50) for input Tensor(\"embedding_214_input:0\", shape=(None, 50), dtype=float32), but it was called on an input with incompatible shape (None, 30).\n",
            "WARNING:tensorflow:Model was constructed with shape (None, 50) for input Tensor(\"embedding_214_input:0\", shape=(None, 50), dtype=float32), but it was called on an input with incompatible shape (None, 30).\n",
            "WARNING:tensorflow:Model was constructed with shape (None, 50) for input Tensor(\"embedding_214_input:0\", shape=(None, 50), dtype=float32), but it was called on an input with incompatible shape (None, 30).\n",
            "WARNING:tensorflow:Model was constructed with shape (None, 50) for input Tensor(\"embedding_215_input:0\", shape=(None, 50), dtype=float32), but it was called on an input with incompatible shape (None, 30).\n",
            "WARNING:tensorflow:Model was constructed with shape (None, 50) for input Tensor(\"embedding_215_input:0\", shape=(None, 50), dtype=float32), but it was called on an input with incompatible shape (None, 30).\n",
            "WARNING:tensorflow:Model was constructed with shape (None, 50) for input Tensor(\"embedding_215_input:0\", shape=(None, 50), dtype=float32), but it was called on an input with incompatible shape (None, 30).\n",
            "WARNING:tensorflow:Model was constructed with shape (None, 50) for input Tensor(\"embedding_216_input:0\", shape=(None, 50), dtype=float32), but it was called on an input with incompatible shape (None, 30).\n",
            "WARNING:tensorflow:Model was constructed with shape (None, 50) for input Tensor(\"embedding_216_input:0\", shape=(None, 50), dtype=float32), but it was called on an input with incompatible shape (None, 30).\n",
            "WARNING:tensorflow:Model was constructed with shape (None, 50) for input Tensor(\"embedding_216_input:0\", shape=(None, 50), dtype=float32), but it was called on an input with incompatible shape (None, 30).\n",
            "WARNING:tensorflow:Model was constructed with shape (None, 100) for input Tensor(\"embedding_217_input:0\", shape=(None, 100), dtype=float32), but it was called on an input with incompatible shape (None, 30).\n",
            "WARNING:tensorflow:Model was constructed with shape (None, 100) for input Tensor(\"embedding_217_input:0\", shape=(None, 100), dtype=float32), but it was called on an input with incompatible shape (None, 30).\n",
            "WARNING:tensorflow:Model was constructed with shape (None, 100) for input Tensor(\"embedding_217_input:0\", shape=(None, 100), dtype=float32), but it was called on an input with incompatible shape (None, 30).\n",
            "WARNING:tensorflow:Model was constructed with shape (None, 100) for input Tensor(\"embedding_218_input:0\", shape=(None, 100), dtype=float32), but it was called on an input with incompatible shape (None, 30).\n",
            "WARNING:tensorflow:Model was constructed with shape (None, 100) for input Tensor(\"embedding_218_input:0\", shape=(None, 100), dtype=float32), but it was called on an input with incompatible shape (None, 30).\n",
            "WARNING:tensorflow:Model was constructed with shape (None, 100) for input Tensor(\"embedding_218_input:0\", shape=(None, 100), dtype=float32), but it was called on an input with incompatible shape (None, 30).\n",
            "WARNING:tensorflow:Model was constructed with shape (None, 100) for input Tensor(\"embedding_219_input:0\", shape=(None, 100), dtype=float32), but it was called on an input with incompatible shape (None, 30).\n",
            "WARNING:tensorflow:Model was constructed with shape (None, 100) for input Tensor(\"embedding_219_input:0\", shape=(None, 100), dtype=float32), but it was called on an input with incompatible shape (None, 30).\n",
            "WARNING:tensorflow:Model was constructed with shape (None, 100) for input Tensor(\"embedding_219_input:0\", shape=(None, 100), dtype=float32), but it was called on an input with incompatible shape (None, 30).\n",
            "WARNING:tensorflow:Model was constructed with shape (None, 100) for input Tensor(\"embedding_220_input:0\", shape=(None, 100), dtype=float32), but it was called on an input with incompatible shape (None, 30).\n",
            "WARNING:tensorflow:Model was constructed with shape (None, 100) for input Tensor(\"embedding_220_input:0\", shape=(None, 100), dtype=float32), but it was called on an input with incompatible shape (None, 30).\n",
            "WARNING:tensorflow:Model was constructed with shape (None, 100) for input Tensor(\"embedding_220_input:0\", shape=(None, 100), dtype=float32), but it was called on an input with incompatible shape (None, 30).\n",
            "WARNING:tensorflow:Model was constructed with shape (None, 50) for input Tensor(\"embedding_225_input:0\", shape=(None, 50), dtype=float32), but it was called on an input with incompatible shape (None, 30).\n",
            "WARNING:tensorflow:Model was constructed with shape (None, 50) for input Tensor(\"embedding_225_input:0\", shape=(None, 50), dtype=float32), but it was called on an input with incompatible shape (None, 30).\n",
            "WARNING:tensorflow:Model was constructed with shape (None, 50) for input Tensor(\"embedding_225_input:0\", shape=(None, 50), dtype=float32), but it was called on an input with incompatible shape (None, 30).\n",
            "WARNING:tensorflow:Model was constructed with shape (None, 50) for input Tensor(\"embedding_226_input:0\", shape=(None, 50), dtype=float32), but it was called on an input with incompatible shape (None, 30).\n",
            "WARNING:tensorflow:Model was constructed with shape (None, 50) for input Tensor(\"embedding_226_input:0\", shape=(None, 50), dtype=float32), but it was called on an input with incompatible shape (None, 30).\n",
            "WARNING:tensorflow:Model was constructed with shape (None, 50) for input Tensor(\"embedding_226_input:0\", shape=(None, 50), dtype=float32), but it was called on an input with incompatible shape (None, 30).\n",
            "WARNING:tensorflow:Model was constructed with shape (None, 50) for input Tensor(\"embedding_227_input:0\", shape=(None, 50), dtype=float32), but it was called on an input with incompatible shape (None, 30).\n",
            "WARNING:tensorflow:Model was constructed with shape (None, 50) for input Tensor(\"embedding_227_input:0\", shape=(None, 50), dtype=float32), but it was called on an input with incompatible shape (None, 30).\n",
            "WARNING:tensorflow:Model was constructed with shape (None, 50) for input Tensor(\"embedding_227_input:0\", shape=(None, 50), dtype=float32), but it was called on an input with incompatible shape (None, 30).\n",
            "WARNING:tensorflow:Model was constructed with shape (None, 50) for input Tensor(\"embedding_228_input:0\", shape=(None, 50), dtype=float32), but it was called on an input with incompatible shape (None, 30).\n",
            "WARNING:tensorflow:Model was constructed with shape (None, 50) for input Tensor(\"embedding_228_input:0\", shape=(None, 50), dtype=float32), but it was called on an input with incompatible shape (None, 30).\n",
            "WARNING:tensorflow:Model was constructed with shape (None, 50) for input Tensor(\"embedding_228_input:0\", shape=(None, 50), dtype=float32), but it was called on an input with incompatible shape (None, 30).\n",
            "WARNING:tensorflow:Model was constructed with shape (None, 100) for input Tensor(\"embedding_229_input:0\", shape=(None, 100), dtype=float32), but it was called on an input with incompatible shape (None, 30).\n",
            "WARNING:tensorflow:Model was constructed with shape (None, 100) for input Tensor(\"embedding_229_input:0\", shape=(None, 100), dtype=float32), but it was called on an input with incompatible shape (None, 30).\n",
            "WARNING:tensorflow:Model was constructed with shape (None, 100) for input Tensor(\"embedding_229_input:0\", shape=(None, 100), dtype=float32), but it was called on an input with incompatible shape (None, 30).\n",
            "WARNING:tensorflow:Model was constructed with shape (None, 100) for input Tensor(\"embedding_230_input:0\", shape=(None, 100), dtype=float32), but it was called on an input with incompatible shape (None, 30).\n",
            "WARNING:tensorflow:Model was constructed with shape (None, 100) for input Tensor(\"embedding_230_input:0\", shape=(None, 100), dtype=float32), but it was called on an input with incompatible shape (None, 30).\n",
            "WARNING:tensorflow:Model was constructed with shape (None, 100) for input Tensor(\"embedding_230_input:0\", shape=(None, 100), dtype=float32), but it was called on an input with incompatible shape (None, 30).\n",
            "WARNING:tensorflow:Model was constructed with shape (None, 100) for input Tensor(\"embedding_231_input:0\", shape=(None, 100), dtype=float32), but it was called on an input with incompatible shape (None, 30).\n",
            "WARNING:tensorflow:Model was constructed with shape (None, 100) for input Tensor(\"embedding_231_input:0\", shape=(None, 100), dtype=float32), but it was called on an input with incompatible shape (None, 30).\n",
            "WARNING:tensorflow:Model was constructed with shape (None, 100) for input Tensor(\"embedding_231_input:0\", shape=(None, 100), dtype=float32), but it was called on an input with incompatible shape (None, 30).\n",
            "WARNING:tensorflow:Model was constructed with shape (None, 100) for input Tensor(\"embedding_232_input:0\", shape=(None, 100), dtype=float32), but it was called on an input with incompatible shape (None, 30).\n",
            "WARNING:tensorflow:Model was constructed with shape (None, 100) for input Tensor(\"embedding_232_input:0\", shape=(None, 100), dtype=float32), but it was called on an input with incompatible shape (None, 30).\n",
            "WARNING:tensorflow:Model was constructed with shape (None, 100) for input Tensor(\"embedding_232_input:0\", shape=(None, 100), dtype=float32), but it was called on an input with incompatible shape (None, 30).\n",
            "WARNING:tensorflow:Model was constructed with shape (None, 50) for input Tensor(\"embedding_233_input:0\", shape=(None, 50), dtype=float32), but it was called on an input with incompatible shape (None, 30).\n",
            "WARNING:tensorflow:Model was constructed with shape (None, 50) for input Tensor(\"embedding_233_input:0\", shape=(None, 50), dtype=float32), but it was called on an input with incompatible shape (None, 30).\n",
            "WARNING:tensorflow:Model was constructed with shape (None, 50) for input Tensor(\"embedding_233_input:0\", shape=(None, 50), dtype=float32), but it was called on an input with incompatible shape (None, 30).\n",
            "WARNING:tensorflow:Model was constructed with shape (None, 50) for input Tensor(\"embedding_234_input:0\", shape=(None, 50), dtype=float32), but it was called on an input with incompatible shape (None, 30).\n",
            "WARNING:tensorflow:Model was constructed with shape (None, 50) for input Tensor(\"embedding_234_input:0\", shape=(None, 50), dtype=float32), but it was called on an input with incompatible shape (None, 30).\n",
            "WARNING:tensorflow:Model was constructed with shape (None, 50) for input Tensor(\"embedding_234_input:0\", shape=(None, 50), dtype=float32), but it was called on an input with incompatible shape (None, 30).\n",
            "WARNING:tensorflow:Model was constructed with shape (None, 50) for input Tensor(\"embedding_235_input:0\", shape=(None, 50), dtype=float32), but it was called on an input with incompatible shape (None, 30).\n",
            "WARNING:tensorflow:Model was constructed with shape (None, 50) for input Tensor(\"embedding_235_input:0\", shape=(None, 50), dtype=float32), but it was called on an input with incompatible shape (None, 30).\n",
            "WARNING:tensorflow:Model was constructed with shape (None, 50) for input Tensor(\"embedding_235_input:0\", shape=(None, 50), dtype=float32), but it was called on an input with incompatible shape (None, 30).\n",
            "WARNING:tensorflow:Model was constructed with shape (None, 50) for input Tensor(\"embedding_236_input:0\", shape=(None, 50), dtype=float32), but it was called on an input with incompatible shape (None, 30).\n",
            "WARNING:tensorflow:Model was constructed with shape (None, 50) for input Tensor(\"embedding_236_input:0\", shape=(None, 50), dtype=float32), but it was called on an input with incompatible shape (None, 30).\n",
            "WARNING:tensorflow:Model was constructed with shape (None, 50) for input Tensor(\"embedding_236_input:0\", shape=(None, 50), dtype=float32), but it was called on an input with incompatible shape (None, 30).\n",
            "WARNING:tensorflow:Model was constructed with shape (None, 50) for input Tensor(\"embedding_245_input:0\", shape=(None, 50), dtype=float32), but it was called on an input with incompatible shape (None, 30).\n",
            "WARNING:tensorflow:Model was constructed with shape (None, 50) for input Tensor(\"embedding_245_input:0\", shape=(None, 50), dtype=float32), but it was called on an input with incompatible shape (None, 30).\n",
            "WARNING:tensorflow:Model was constructed with shape (None, 50) for input Tensor(\"embedding_245_input:0\", shape=(None, 50), dtype=float32), but it was called on an input with incompatible shape (None, 30).\n",
            "WARNING:tensorflow:Model was constructed with shape (None, 50) for input Tensor(\"embedding_246_input:0\", shape=(None, 50), dtype=float32), but it was called on an input with incompatible shape (None, 30).\n",
            "WARNING:tensorflow:Model was constructed with shape (None, 50) for input Tensor(\"embedding_246_input:0\", shape=(None, 50), dtype=float32), but it was called on an input with incompatible shape (None, 30).\n",
            "WARNING:tensorflow:Model was constructed with shape (None, 50) for input Tensor(\"embedding_246_input:0\", shape=(None, 50), dtype=float32), but it was called on an input with incompatible shape (None, 30).\n",
            "WARNING:tensorflow:Model was constructed with shape (None, 50) for input Tensor(\"embedding_247_input:0\", shape=(None, 50), dtype=float32), but it was called on an input with incompatible shape (None, 30).\n",
            "WARNING:tensorflow:Model was constructed with shape (None, 50) for input Tensor(\"embedding_247_input:0\", shape=(None, 50), dtype=float32), but it was called on an input with incompatible shape (None, 30).\n",
            "WARNING:tensorflow:Model was constructed with shape (None, 50) for input Tensor(\"embedding_247_input:0\", shape=(None, 50), dtype=float32), but it was called on an input with incompatible shape (None, 30).\n",
            "WARNING:tensorflow:Model was constructed with shape (None, 50) for input Tensor(\"embedding_248_input:0\", shape=(None, 50), dtype=float32), but it was called on an input with incompatible shape (None, 30).\n",
            "WARNING:tensorflow:Model was constructed with shape (None, 50) for input Tensor(\"embedding_248_input:0\", shape=(None, 50), dtype=float32), but it was called on an input with incompatible shape (None, 30).\n",
            "WARNING:tensorflow:Model was constructed with shape (None, 50) for input Tensor(\"embedding_248_input:0\", shape=(None, 50), dtype=float32), but it was called on an input with incompatible shape (None, 30).\n",
            "WARNING:tensorflow:Model was constructed with shape (None, 100) for input Tensor(\"embedding_249_input:0\", shape=(None, 100), dtype=float32), but it was called on an input with incompatible shape (None, 30).\n",
            "WARNING:tensorflow:Model was constructed with shape (None, 100) for input Tensor(\"embedding_249_input:0\", shape=(None, 100), dtype=float32), but it was called on an input with incompatible shape (None, 30).\n",
            "WARNING:tensorflow:Model was constructed with shape (None, 100) for input Tensor(\"embedding_249_input:0\", shape=(None, 100), dtype=float32), but it was called on an input with incompatible shape (None, 30).\n",
            "WARNING:tensorflow:Model was constructed with shape (None, 100) for input Tensor(\"embedding_250_input:0\", shape=(None, 100), dtype=float32), but it was called on an input with incompatible shape (None, 30).\n",
            "WARNING:tensorflow:Model was constructed with shape (None, 100) for input Tensor(\"embedding_250_input:0\", shape=(None, 100), dtype=float32), but it was called on an input with incompatible shape (None, 30).\n",
            "WARNING:tensorflow:Model was constructed with shape (None, 100) for input Tensor(\"embedding_250_input:0\", shape=(None, 100), dtype=float32), but it was called on an input with incompatible shape (None, 30).\n",
            "WARNING:tensorflow:Model was constructed with shape (None, 100) for input Tensor(\"embedding_251_input:0\", shape=(None, 100), dtype=float32), but it was called on an input with incompatible shape (None, 30).\n",
            "WARNING:tensorflow:Model was constructed with shape (None, 100) for input Tensor(\"embedding_251_input:0\", shape=(None, 100), dtype=float32), but it was called on an input with incompatible shape (None, 30).\n",
            "WARNING:tensorflow:Model was constructed with shape (None, 100) for input Tensor(\"embedding_251_input:0\", shape=(None, 100), dtype=float32), but it was called on an input with incompatible shape (None, 30).\n",
            "WARNING:tensorflow:Model was constructed with shape (None, 100) for input Tensor(\"embedding_252_input:0\", shape=(None, 100), dtype=float32), but it was called on an input with incompatible shape (None, 30).\n",
            "WARNING:tensorflow:Model was constructed with shape (None, 100) for input Tensor(\"embedding_252_input:0\", shape=(None, 100), dtype=float32), but it was called on an input with incompatible shape (None, 30).\n",
            "WARNING:tensorflow:Model was constructed with shape (None, 100) for input Tensor(\"embedding_252_input:0\", shape=(None, 100), dtype=float32), but it was called on an input with incompatible shape (None, 30).\n",
            "WARNING:tensorflow:Model was constructed with shape (None, 50) for input Tensor(\"embedding_253_input:0\", shape=(None, 50), dtype=float32), but it was called on an input with incompatible shape (None, 30).\n",
            "WARNING:tensorflow:Model was constructed with shape (None, 50) for input Tensor(\"embedding_253_input:0\", shape=(None, 50), dtype=float32), but it was called on an input with incompatible shape (None, 30).\n",
            "WARNING:tensorflow:Model was constructed with shape (None, 50) for input Tensor(\"embedding_253_input:0\", shape=(None, 50), dtype=float32), but it was called on an input with incompatible shape (None, 30).\n",
            "WARNING:tensorflow:Model was constructed with shape (None, 50) for input Tensor(\"embedding_254_input:0\", shape=(None, 50), dtype=float32), but it was called on an input with incompatible shape (None, 30).\n",
            "WARNING:tensorflow:Model was constructed with shape (None, 50) for input Tensor(\"embedding_254_input:0\", shape=(None, 50), dtype=float32), but it was called on an input with incompatible shape (None, 30).\n",
            "WARNING:tensorflow:Model was constructed with shape (None, 50) for input Tensor(\"embedding_254_input:0\", shape=(None, 50), dtype=float32), but it was called on an input with incompatible shape (None, 30).\n",
            "WARNING:tensorflow:Model was constructed with shape (None, 50) for input Tensor(\"embedding_255_input:0\", shape=(None, 50), dtype=float32), but it was called on an input with incompatible shape (None, 30).\n",
            "WARNING:tensorflow:Model was constructed with shape (None, 50) for input Tensor(\"embedding_255_input:0\", shape=(None, 50), dtype=float32), but it was called on an input with incompatible shape (None, 30).\n",
            "WARNING:tensorflow:Model was constructed with shape (None, 50) for input Tensor(\"embedding_255_input:0\", shape=(None, 50), dtype=float32), but it was called on an input with incompatible shape (None, 30).\n",
            "WARNING:tensorflow:Model was constructed with shape (None, 50) for input Tensor(\"embedding_256_input:0\", shape=(None, 50), dtype=float32), but it was called on an input with incompatible shape (None, 30).\n",
            "WARNING:tensorflow:Model was constructed with shape (None, 50) for input Tensor(\"embedding_256_input:0\", shape=(None, 50), dtype=float32), but it was called on an input with incompatible shape (None, 30).\n",
            "WARNING:tensorflow:Model was constructed with shape (None, 50) for input Tensor(\"embedding_256_input:0\", shape=(None, 50), dtype=float32), but it was called on an input with incompatible shape (None, 30).\n",
            "WARNING:tensorflow:Model was constructed with shape (None, 100) for input Tensor(\"embedding_257_input:0\", shape=(None, 100), dtype=float32), but it was called on an input with incompatible shape (None, 30).\n",
            "WARNING:tensorflow:Model was constructed with shape (None, 100) for input Tensor(\"embedding_257_input:0\", shape=(None, 100), dtype=float32), but it was called on an input with incompatible shape (None, 30).\n",
            "WARNING:tensorflow:Model was constructed with shape (None, 100) for input Tensor(\"embedding_257_input:0\", shape=(None, 100), dtype=float32), but it was called on an input with incompatible shape (None, 30).\n",
            "WARNING:tensorflow:Model was constructed with shape (None, 100) for input Tensor(\"embedding_258_input:0\", shape=(None, 100), dtype=float32), but it was called on an input with incompatible shape (None, 30).\n",
            "WARNING:tensorflow:Model was constructed with shape (None, 100) for input Tensor(\"embedding_258_input:0\", shape=(None, 100), dtype=float32), but it was called on an input with incompatible shape (None, 30).\n",
            "WARNING:tensorflow:Model was constructed with shape (None, 100) for input Tensor(\"embedding_258_input:0\", shape=(None, 100), dtype=float32), but it was called on an input with incompatible shape (None, 30).\n",
            "WARNING:tensorflow:Model was constructed with shape (None, 100) for input Tensor(\"embedding_259_input:0\", shape=(None, 100), dtype=float32), but it was called on an input with incompatible shape (None, 30).\n",
            "WARNING:tensorflow:Model was constructed with shape (None, 100) for input Tensor(\"embedding_259_input:0\", shape=(None, 100), dtype=float32), but it was called on an input with incompatible shape (None, 30).\n",
            "WARNING:tensorflow:Model was constructed with shape (None, 100) for input Tensor(\"embedding_259_input:0\", shape=(None, 100), dtype=float32), but it was called on an input with incompatible shape (None, 30).\n",
            "WARNING:tensorflow:Model was constructed with shape (None, 100) for input Tensor(\"embedding_260_input:0\", shape=(None, 100), dtype=float32), but it was called on an input with incompatible shape (None, 30).\n",
            "WARNING:tensorflow:Model was constructed with shape (None, 100) for input Tensor(\"embedding_260_input:0\", shape=(None, 100), dtype=float32), but it was called on an input with incompatible shape (None, 30).\n",
            "WARNING:tensorflow:Model was constructed with shape (None, 100) for input Tensor(\"embedding_260_input:0\", shape=(None, 100), dtype=float32), but it was called on an input with incompatible shape (None, 30).\n",
            "WARNING:tensorflow:Model was constructed with shape (None, 100) for input Tensor(\"embedding_269_input:0\", shape=(None, 100), dtype=float32), but it was called on an input with incompatible shape (None, 30).\n",
            "WARNING:tensorflow:Model was constructed with shape (None, 100) for input Tensor(\"embedding_269_input:0\", shape=(None, 100), dtype=float32), but it was called on an input with incompatible shape (None, 30).\n",
            "WARNING:tensorflow:Model was constructed with shape (None, 100) for input Tensor(\"embedding_269_input:0\", shape=(None, 100), dtype=float32), but it was called on an input with incompatible shape (None, 30).\n",
            "WARNING:tensorflow:Model was constructed with shape (None, 100) for input Tensor(\"embedding_270_input:0\", shape=(None, 100), dtype=float32), but it was called on an input with incompatible shape (None, 30).\n",
            "WARNING:tensorflow:Model was constructed with shape (None, 100) for input Tensor(\"embedding_270_input:0\", shape=(None, 100), dtype=float32), but it was called on an input with incompatible shape (None, 30).\n",
            "WARNING:tensorflow:Model was constructed with shape (None, 100) for input Tensor(\"embedding_270_input:0\", shape=(None, 100), dtype=float32), but it was called on an input with incompatible shape (None, 30).\n",
            "WARNING:tensorflow:Model was constructed with shape (None, 100) for input Tensor(\"embedding_271_input:0\", shape=(None, 100), dtype=float32), but it was called on an input with incompatible shape (None, 30).\n",
            "WARNING:tensorflow:Model was constructed with shape (None, 100) for input Tensor(\"embedding_271_input:0\", shape=(None, 100), dtype=float32), but it was called on an input with incompatible shape (None, 30).\n",
            "WARNING:tensorflow:Model was constructed with shape (None, 100) for input Tensor(\"embedding_271_input:0\", shape=(None, 100), dtype=float32), but it was called on an input with incompatible shape (None, 30).\n",
            "WARNING:tensorflow:Model was constructed with shape (None, 100) for input Tensor(\"embedding_272_input:0\", shape=(None, 100), dtype=float32), but it was called on an input with incompatible shape (None, 30).\n",
            "WARNING:tensorflow:Model was constructed with shape (None, 100) for input Tensor(\"embedding_272_input:0\", shape=(None, 100), dtype=float32), but it was called on an input with incompatible shape (None, 30).\n",
            "WARNING:tensorflow:Model was constructed with shape (None, 100) for input Tensor(\"embedding_272_input:0\", shape=(None, 100), dtype=float32), but it was called on an input with incompatible shape (None, 30).\n",
            "WARNING:tensorflow:Model was constructed with shape (None, 50) for input Tensor(\"embedding_273_input:0\", shape=(None, 50), dtype=float32), but it was called on an input with incompatible shape (None, 30).\n",
            "WARNING:tensorflow:Model was constructed with shape (None, 50) for input Tensor(\"embedding_273_input:0\", shape=(None, 50), dtype=float32), but it was called on an input with incompatible shape (None, 30).\n",
            "WARNING:tensorflow:Model was constructed with shape (None, 50) for input Tensor(\"embedding_273_input:0\", shape=(None, 50), dtype=float32), but it was called on an input with incompatible shape (None, 30).\n",
            "WARNING:tensorflow:Model was constructed with shape (None, 50) for input Tensor(\"embedding_274_input:0\", shape=(None, 50), dtype=float32), but it was called on an input with incompatible shape (None, 30).\n",
            "WARNING:tensorflow:Model was constructed with shape (None, 50) for input Tensor(\"embedding_274_input:0\", shape=(None, 50), dtype=float32), but it was called on an input with incompatible shape (None, 30).\n",
            "WARNING:tensorflow:Model was constructed with shape (None, 50) for input Tensor(\"embedding_274_input:0\", shape=(None, 50), dtype=float32), but it was called on an input with incompatible shape (None, 30).\n",
            "WARNING:tensorflow:Model was constructed with shape (None, 50) for input Tensor(\"embedding_275_input:0\", shape=(None, 50), dtype=float32), but it was called on an input with incompatible shape (None, 30).\n",
            "WARNING:tensorflow:Model was constructed with shape (None, 50) for input Tensor(\"embedding_275_input:0\", shape=(None, 50), dtype=float32), but it was called on an input with incompatible shape (None, 30).\n",
            "WARNING:tensorflow:Model was constructed with shape (None, 50) for input Tensor(\"embedding_275_input:0\", shape=(None, 50), dtype=float32), but it was called on an input with incompatible shape (None, 30).\n",
            "WARNING:tensorflow:Model was constructed with shape (None, 50) for input Tensor(\"embedding_276_input:0\", shape=(None, 50), dtype=float32), but it was called on an input with incompatible shape (None, 30).\n",
            "WARNING:tensorflow:Model was constructed with shape (None, 50) for input Tensor(\"embedding_276_input:0\", shape=(None, 50), dtype=float32), but it was called on an input with incompatible shape (None, 30).\n",
            "WARNING:tensorflow:Model was constructed with shape (None, 50) for input Tensor(\"embedding_276_input:0\", shape=(None, 50), dtype=float32), but it was called on an input with incompatible shape (None, 30).\n",
            "WARNING:tensorflow:Model was constructed with shape (None, 50) for input Tensor(\"embedding_277_input:0\", shape=(None, 50), dtype=float32), but it was called on an input with incompatible shape (None, 30).\n",
            "WARNING:tensorflow:Model was constructed with shape (None, 50) for input Tensor(\"embedding_277_input:0\", shape=(None, 50), dtype=float32), but it was called on an input with incompatible shape (None, 30).\n",
            "WARNING:tensorflow:Model was constructed with shape (None, 50) for input Tensor(\"embedding_277_input:0\", shape=(None, 50), dtype=float32), but it was called on an input with incompatible shape (None, 30).\n",
            "WARNING:tensorflow:Model was constructed with shape (None, 50) for input Tensor(\"embedding_278_input:0\", shape=(None, 50), dtype=float32), but it was called on an input with incompatible shape (None, 30).\n",
            "WARNING:tensorflow:Model was constructed with shape (None, 50) for input Tensor(\"embedding_278_input:0\", shape=(None, 50), dtype=float32), but it was called on an input with incompatible shape (None, 30).\n",
            "WARNING:tensorflow:Model was constructed with shape (None, 50) for input Tensor(\"embedding_278_input:0\", shape=(None, 50), dtype=float32), but it was called on an input with incompatible shape (None, 30).\n",
            "WARNING:tensorflow:Model was constructed with shape (None, 50) for input Tensor(\"embedding_279_input:0\", shape=(None, 50), dtype=float32), but it was called on an input with incompatible shape (None, 30).\n",
            "WARNING:tensorflow:Model was constructed with shape (None, 50) for input Tensor(\"embedding_279_input:0\", shape=(None, 50), dtype=float32), but it was called on an input with incompatible shape (None, 30).\n",
            "WARNING:tensorflow:Model was constructed with shape (None, 50) for input Tensor(\"embedding_279_input:0\", shape=(None, 50), dtype=float32), but it was called on an input with incompatible shape (None, 30).\n",
            "WARNING:tensorflow:Model was constructed with shape (None, 50) for input Tensor(\"embedding_280_input:0\", shape=(None, 50), dtype=float32), but it was called on an input with incompatible shape (None, 30).\n",
            "WARNING:tensorflow:Model was constructed with shape (None, 50) for input Tensor(\"embedding_280_input:0\", shape=(None, 50), dtype=float32), but it was called on an input with incompatible shape (None, 30).\n",
            "WARNING:tensorflow:Model was constructed with shape (None, 50) for input Tensor(\"embedding_280_input:0\", shape=(None, 50), dtype=float32), but it was called on an input with incompatible shape (None, 30).\n",
            "WARNING:tensorflow:Model was constructed with shape (None, 50) for input Tensor(\"embedding_285_input:0\", shape=(None, 50), dtype=float32), but it was called on an input with incompatible shape (None, 30).\n",
            "WARNING:tensorflow:Model was constructed with shape (None, 50) for input Tensor(\"embedding_285_input:0\", shape=(None, 50), dtype=float32), but it was called on an input with incompatible shape (None, 30).\n",
            "WARNING:tensorflow:Model was constructed with shape (None, 50) for input Tensor(\"embedding_285_input:0\", shape=(None, 50), dtype=float32), but it was called on an input with incompatible shape (None, 30).\n",
            "WARNING:tensorflow:Model was constructed with shape (None, 50) for input Tensor(\"embedding_286_input:0\", shape=(None, 50), dtype=float32), but it was called on an input with incompatible shape (None, 30).\n",
            "WARNING:tensorflow:Model was constructed with shape (None, 50) for input Tensor(\"embedding_286_input:0\", shape=(None, 50), dtype=float32), but it was called on an input with incompatible shape (None, 30).\n",
            "WARNING:tensorflow:Model was constructed with shape (None, 50) for input Tensor(\"embedding_286_input:0\", shape=(None, 50), dtype=float32), but it was called on an input with incompatible shape (None, 30).\n",
            "WARNING:tensorflow:Model was constructed with shape (None, 50) for input Tensor(\"embedding_287_input:0\", shape=(None, 50), dtype=float32), but it was called on an input with incompatible shape (None, 30).\n",
            "WARNING:tensorflow:Model was constructed with shape (None, 50) for input Tensor(\"embedding_287_input:0\", shape=(None, 50), dtype=float32), but it was called on an input with incompatible shape (None, 30).\n",
            "WARNING:tensorflow:Model was constructed with shape (None, 50) for input Tensor(\"embedding_287_input:0\", shape=(None, 50), dtype=float32), but it was called on an input with incompatible shape (None, 30).\n",
            "WARNING:tensorflow:Model was constructed with shape (None, 50) for input Tensor(\"embedding_288_input:0\", shape=(None, 50), dtype=float32), but it was called on an input with incompatible shape (None, 30).\n",
            "WARNING:tensorflow:Model was constructed with shape (None, 50) for input Tensor(\"embedding_288_input:0\", shape=(None, 50), dtype=float32), but it was called on an input with incompatible shape (None, 30).\n",
            "WARNING:tensorflow:Model was constructed with shape (None, 50) for input Tensor(\"embedding_288_input:0\", shape=(None, 50), dtype=float32), but it was called on an input with incompatible shape (None, 30).\n",
            "WARNING:tensorflow:Model was constructed with shape (None, 100) for input Tensor(\"embedding_289_input:0\", shape=(None, 100), dtype=float32), but it was called on an input with incompatible shape (None, 30).\n",
            "WARNING:tensorflow:Model was constructed with shape (None, 100) for input Tensor(\"embedding_289_input:0\", shape=(None, 100), dtype=float32), but it was called on an input with incompatible shape (None, 30).\n",
            "WARNING:tensorflow:Model was constructed with shape (None, 100) for input Tensor(\"embedding_289_input:0\", shape=(None, 100), dtype=float32), but it was called on an input with incompatible shape (None, 30).\n",
            "WARNING:tensorflow:Model was constructed with shape (None, 100) for input Tensor(\"embedding_290_input:0\", shape=(None, 100), dtype=float32), but it was called on an input with incompatible shape (None, 30).\n",
            "WARNING:tensorflow:Model was constructed with shape (None, 100) for input Tensor(\"embedding_290_input:0\", shape=(None, 100), dtype=float32), but it was called on an input with incompatible shape (None, 30).\n",
            "WARNING:tensorflow:Model was constructed with shape (None, 100) for input Tensor(\"embedding_290_input:0\", shape=(None, 100), dtype=float32), but it was called on an input with incompatible shape (None, 30).\n",
            "WARNING:tensorflow:Model was constructed with shape (None, 100) for input Tensor(\"embedding_291_input:0\", shape=(None, 100), dtype=float32), but it was called on an input with incompatible shape (None, 30).\n",
            "WARNING:tensorflow:Model was constructed with shape (None, 100) for input Tensor(\"embedding_291_input:0\", shape=(None, 100), dtype=float32), but it was called on an input with incompatible shape (None, 30).\n",
            "WARNING:tensorflow:Model was constructed with shape (None, 100) for input Tensor(\"embedding_291_input:0\", shape=(None, 100), dtype=float32), but it was called on an input with incompatible shape (None, 30).\n",
            "WARNING:tensorflow:Model was constructed with shape (None, 100) for input Tensor(\"embedding_292_input:0\", shape=(None, 100), dtype=float32), but it was called on an input with incompatible shape (None, 30).\n",
            "WARNING:tensorflow:Model was constructed with shape (None, 100) for input Tensor(\"embedding_292_input:0\", shape=(None, 100), dtype=float32), but it was called on an input with incompatible shape (None, 30).\n",
            "WARNING:tensorflow:Model was constructed with shape (None, 100) for input Tensor(\"embedding_292_input:0\", shape=(None, 100), dtype=float32), but it was called on an input with incompatible shape (None, 30).\n",
            "WARNING:tensorflow:Model was constructed with shape (None, 50) for input Tensor(\"embedding_293_input:0\", shape=(None, 50), dtype=float32), but it was called on an input with incompatible shape (None, 30).\n",
            "WARNING:tensorflow:Model was constructed with shape (None, 50) for input Tensor(\"embedding_293_input:0\", shape=(None, 50), dtype=float32), but it was called on an input with incompatible shape (None, 30).\n",
            "WARNING:tensorflow:Model was constructed with shape (None, 50) for input Tensor(\"embedding_293_input:0\", shape=(None, 50), dtype=float32), but it was called on an input with incompatible shape (None, 30).\n",
            "WARNING:tensorflow:Model was constructed with shape (None, 50) for input Tensor(\"embedding_294_input:0\", shape=(None, 50), dtype=float32), but it was called on an input with incompatible shape (None, 30).\n",
            "WARNING:tensorflow:Model was constructed with shape (None, 50) for input Tensor(\"embedding_294_input:0\", shape=(None, 50), dtype=float32), but it was called on an input with incompatible shape (None, 30).\n",
            "WARNING:tensorflow:Model was constructed with shape (None, 50) for input Tensor(\"embedding_294_input:0\", shape=(None, 50), dtype=float32), but it was called on an input with incompatible shape (None, 30).\n",
            "WARNING:tensorflow:Model was constructed with shape (None, 50) for input Tensor(\"embedding_295_input:0\", shape=(None, 50), dtype=float32), but it was called on an input with incompatible shape (None, 30).\n",
            "WARNING:tensorflow:Model was constructed with shape (None, 50) for input Tensor(\"embedding_295_input:0\", shape=(None, 50), dtype=float32), but it was called on an input with incompatible shape (None, 30).\n",
            "WARNING:tensorflow:Model was constructed with shape (None, 50) for input Tensor(\"embedding_295_input:0\", shape=(None, 50), dtype=float32), but it was called on an input with incompatible shape (None, 30).\n",
            "WARNING:tensorflow:Model was constructed with shape (None, 50) for input Tensor(\"embedding_296_input:0\", shape=(None, 50), dtype=float32), but it was called on an input with incompatible shape (None, 30).\n",
            "WARNING:tensorflow:Model was constructed with shape (None, 50) for input Tensor(\"embedding_296_input:0\", shape=(None, 50), dtype=float32), but it was called on an input with incompatible shape (None, 30).\n",
            "WARNING:tensorflow:Model was constructed with shape (None, 50) for input Tensor(\"embedding_296_input:0\", shape=(None, 50), dtype=float32), but it was called on an input with incompatible shape (None, 30).\n",
            "WARNING:tensorflow:Model was constructed with shape (None, 50) for input Tensor(\"embedding_297_input:0\", shape=(None, 50), dtype=float32), but it was called on an input with incompatible shape (None, 30).\n",
            "WARNING:tensorflow:Model was constructed with shape (None, 50) for input Tensor(\"embedding_297_input:0\", shape=(None, 50), dtype=float32), but it was called on an input with incompatible shape (None, 30).\n",
            "WARNING:tensorflow:Model was constructed with shape (None, 50) for input Tensor(\"embedding_297_input:0\", shape=(None, 50), dtype=float32), but it was called on an input with incompatible shape (None, 30).\n",
            "WARNING:tensorflow:Model was constructed with shape (None, 50) for input Tensor(\"embedding_298_input:0\", shape=(None, 50), dtype=float32), but it was called on an input with incompatible shape (None, 30).\n",
            "WARNING:tensorflow:Model was constructed with shape (None, 50) for input Tensor(\"embedding_298_input:0\", shape=(None, 50), dtype=float32), but it was called on an input with incompatible shape (None, 30).\n",
            "WARNING:tensorflow:Model was constructed with shape (None, 50) for input Tensor(\"embedding_298_input:0\", shape=(None, 50), dtype=float32), but it was called on an input with incompatible shape (None, 30).\n",
            "WARNING:tensorflow:Model was constructed with shape (None, 50) for input Tensor(\"embedding_299_input:0\", shape=(None, 50), dtype=float32), but it was called on an input with incompatible shape (None, 30).\n",
            "WARNING:tensorflow:Model was constructed with shape (None, 50) for input Tensor(\"embedding_299_input:0\", shape=(None, 50), dtype=float32), but it was called on an input with incompatible shape (None, 30).\n",
            "WARNING:tensorflow:Model was constructed with shape (None, 50) for input Tensor(\"embedding_299_input:0\", shape=(None, 50), dtype=float32), but it was called on an input with incompatible shape (None, 30).\n",
            "WARNING:tensorflow:Model was constructed with shape (None, 50) for input Tensor(\"embedding_300_input:0\", shape=(None, 50), dtype=float32), but it was called on an input with incompatible shape (None, 30).\n",
            "WARNING:tensorflow:Model was constructed with shape (None, 50) for input Tensor(\"embedding_300_input:0\", shape=(None, 50), dtype=float32), but it was called on an input with incompatible shape (None, 30).\n",
            "WARNING:tensorflow:Model was constructed with shape (None, 50) for input Tensor(\"embedding_300_input:0\", shape=(None, 50), dtype=float32), but it was called on an input with incompatible shape (None, 30).\n",
            "WARNING:tensorflow:Model was constructed with shape (None, 100) for input Tensor(\"embedding_305_input:0\", shape=(None, 100), dtype=float32), but it was called on an input with incompatible shape (None, 30).\n",
            "WARNING:tensorflow:Model was constructed with shape (None, 100) for input Tensor(\"embedding_305_input:0\", shape=(None, 100), dtype=float32), but it was called on an input with incompatible shape (None, 30).\n",
            "WARNING:tensorflow:Model was constructed with shape (None, 100) for input Tensor(\"embedding_305_input:0\", shape=(None, 100), dtype=float32), but it was called on an input with incompatible shape (None, 30).\n",
            "WARNING:tensorflow:Model was constructed with shape (None, 100) for input Tensor(\"embedding_306_input:0\", shape=(None, 100), dtype=float32), but it was called on an input with incompatible shape (None, 30).\n",
            "WARNING:tensorflow:Model was constructed with shape (None, 100) for input Tensor(\"embedding_306_input:0\", shape=(None, 100), dtype=float32), but it was called on an input with incompatible shape (None, 30).\n",
            "WARNING:tensorflow:Model was constructed with shape (None, 100) for input Tensor(\"embedding_306_input:0\", shape=(None, 100), dtype=float32), but it was called on an input with incompatible shape (None, 30).\n",
            "WARNING:tensorflow:Model was constructed with shape (None, 100) for input Tensor(\"embedding_307_input:0\", shape=(None, 100), dtype=float32), but it was called on an input with incompatible shape (None, 30).\n",
            "WARNING:tensorflow:Model was constructed with shape (None, 100) for input Tensor(\"embedding_307_input:0\", shape=(None, 100), dtype=float32), but it was called on an input with incompatible shape (None, 30).\n",
            "WARNING:tensorflow:Model was constructed with shape (None, 100) for input Tensor(\"embedding_307_input:0\", shape=(None, 100), dtype=float32), but it was called on an input with incompatible shape (None, 30).\n",
            "WARNING:tensorflow:Model was constructed with shape (None, 100) for input Tensor(\"embedding_308_input:0\", shape=(None, 100), dtype=float32), but it was called on an input with incompatible shape (None, 30).\n",
            "WARNING:tensorflow:Model was constructed with shape (None, 100) for input Tensor(\"embedding_308_input:0\", shape=(None, 100), dtype=float32), but it was called on an input with incompatible shape (None, 30).\n",
            "WARNING:tensorflow:Model was constructed with shape (None, 100) for input Tensor(\"embedding_308_input:0\", shape=(None, 100), dtype=float32), but it was called on an input with incompatible shape (None, 30).\n",
            "WARNING:tensorflow:Model was constructed with shape (None, 50) for input Tensor(\"embedding_309_input:0\", shape=(None, 50), dtype=float32), but it was called on an input with incompatible shape (None, 30).\n",
            "WARNING:tensorflow:Model was constructed with shape (None, 50) for input Tensor(\"embedding_309_input:0\", shape=(None, 50), dtype=float32), but it was called on an input with incompatible shape (None, 30).\n",
            "WARNING:tensorflow:Model was constructed with shape (None, 50) for input Tensor(\"embedding_309_input:0\", shape=(None, 50), dtype=float32), but it was called on an input with incompatible shape (None, 30).\n",
            "WARNING:tensorflow:Model was constructed with shape (None, 50) for input Tensor(\"embedding_310_input:0\", shape=(None, 50), dtype=float32), but it was called on an input with incompatible shape (None, 30).\n",
            "WARNING:tensorflow:Model was constructed with shape (None, 50) for input Tensor(\"embedding_310_input:0\", shape=(None, 50), dtype=float32), but it was called on an input with incompatible shape (None, 30).\n",
            "WARNING:tensorflow:Model was constructed with shape (None, 50) for input Tensor(\"embedding_310_input:0\", shape=(None, 50), dtype=float32), but it was called on an input with incompatible shape (None, 30).\n",
            "WARNING:tensorflow:Model was constructed with shape (None, 50) for input Tensor(\"embedding_311_input:0\", shape=(None, 50), dtype=float32), but it was called on an input with incompatible shape (None, 30).\n",
            "WARNING:tensorflow:Model was constructed with shape (None, 50) for input Tensor(\"embedding_311_input:0\", shape=(None, 50), dtype=float32), but it was called on an input with incompatible shape (None, 30).\n",
            "WARNING:tensorflow:Model was constructed with shape (None, 50) for input Tensor(\"embedding_311_input:0\", shape=(None, 50), dtype=float32), but it was called on an input with incompatible shape (None, 30).\n",
            "WARNING:tensorflow:Model was constructed with shape (None, 50) for input Tensor(\"embedding_312_input:0\", shape=(None, 50), dtype=float32), but it was called on an input with incompatible shape (None, 30).\n",
            "WARNING:tensorflow:Model was constructed with shape (None, 50) for input Tensor(\"embedding_312_input:0\", shape=(None, 50), dtype=float32), but it was called on an input with incompatible shape (None, 30).\n",
            "WARNING:tensorflow:Model was constructed with shape (None, 50) for input Tensor(\"embedding_312_input:0\", shape=(None, 50), dtype=float32), but it was called on an input with incompatible shape (None, 30).\n",
            "WARNING:tensorflow:Model was constructed with shape (None, 50) for input Tensor(\"embedding_317_input:0\", shape=(None, 50), dtype=float32), but it was called on an input with incompatible shape (None, 30).\n",
            "WARNING:tensorflow:Model was constructed with shape (None, 50) for input Tensor(\"embedding_317_input:0\", shape=(None, 50), dtype=float32), but it was called on an input with incompatible shape (None, 30).\n",
            "WARNING:tensorflow:Model was constructed with shape (None, 50) for input Tensor(\"embedding_317_input:0\", shape=(None, 50), dtype=float32), but it was called on an input with incompatible shape (None, 30).\n",
            "WARNING:tensorflow:Model was constructed with shape (None, 50) for input Tensor(\"embedding_318_input:0\", shape=(None, 50), dtype=float32), but it was called on an input with incompatible shape (None, 30).\n",
            "WARNING:tensorflow:Model was constructed with shape (None, 50) for input Tensor(\"embedding_318_input:0\", shape=(None, 50), dtype=float32), but it was called on an input with incompatible shape (None, 30).\n",
            "WARNING:tensorflow:Model was constructed with shape (None, 50) for input Tensor(\"embedding_318_input:0\", shape=(None, 50), dtype=float32), but it was called on an input with incompatible shape (None, 30).\n",
            "WARNING:tensorflow:Model was constructed with shape (None, 50) for input Tensor(\"embedding_319_input:0\", shape=(None, 50), dtype=float32), but it was called on an input with incompatible shape (None, 30).\n",
            "WARNING:tensorflow:Model was constructed with shape (None, 50) for input Tensor(\"embedding_319_input:0\", shape=(None, 50), dtype=float32), but it was called on an input with incompatible shape (None, 30).\n",
            "WARNING:tensorflow:Model was constructed with shape (None, 50) for input Tensor(\"embedding_319_input:0\", shape=(None, 50), dtype=float32), but it was called on an input with incompatible shape (None, 30).\n",
            "WARNING:tensorflow:Model was constructed with shape (None, 50) for input Tensor(\"embedding_320_input:0\", shape=(None, 50), dtype=float32), but it was called on an input with incompatible shape (None, 30).\n",
            "WARNING:tensorflow:Model was constructed with shape (None, 50) for input Tensor(\"embedding_320_input:0\", shape=(None, 50), dtype=float32), but it was called on an input with incompatible shape (None, 30).\n",
            "WARNING:tensorflow:Model was constructed with shape (None, 50) for input Tensor(\"embedding_320_input:0\", shape=(None, 50), dtype=float32), but it was called on an input with incompatible shape (None, 30).\n",
            "WARNING:tensorflow:Model was constructed with shape (None, 100) for input Tensor(\"embedding_321_input:0\", shape=(None, 100), dtype=float32), but it was called on an input with incompatible shape (16, 30).\n"
          ],
          "name": "stdout"
        },
        {
          "output_type": "stream",
          "text": [
            "[Parallel(n_jobs=1)]: Done 200 out of 200 | elapsed:  5.4min finished\n"
          ],
          "name": "stderr"
        },
        {
          "output_type": "stream",
          "text": [
            "WARNING:tensorflow:Model was constructed with shape (None, 100) for input Tensor(\"embedding_321_input:0\", shape=(None, 100), dtype=float32), but it was called on an input with incompatible shape (16, 30).\n"
          ],
          "name": "stdout"
        }
      ]
    },
    {
      "cell_type": "code",
      "metadata": {
        "id": "0mM4F8sMtoeC",
        "colab_type": "code",
        "colab": {
          "base_uri": "https://localhost:8080/",
          "height": 70
        },
        "outputId": "ca6c75b9-5a55-4f80-82b1-98bbe7ae34c0"
      },
      "source": [
        "  \n",
        "print(\"Accuracy given by the Best model  :\", grid_result.best_score_)\n",
        "print(\"Hyperparameters of the Best model : \", grid_result.best_params_)"
      ],
      "execution_count": 136,
      "outputs": [
        {
          "output_type": "stream",
          "text": [
            "Accuracy given by the Best model  : 0.8262499868869781\n",
            "Hyperparameters of the Best model :  {'vocab_size': 1800, 'num_filters': 64, 'maxlen': 100, 'layers': 32, 'l1_penalty': 0.0001, 'kernel_size': 3, 'embedding_dim': 100}\n"
          ],
          "name": "stdout"
        }
      ]
    },
    {
      "cell_type": "markdown",
      "metadata": {
        "id": "DA4UKfkfxeof",
        "colab_type": "text"
      },
      "source": [
        "Evaluate on Test data"
      ]
    },
    {
      "cell_type": "code",
      "metadata": {
        "id": "RF9npuO_xYvX",
        "colab_type": "code",
        "colab": {}
      },
      "source": [
        "test_acc = grid.score(x_test_pad,y_test)"
      ],
      "execution_count": 137,
      "outputs": []
    },
    {
      "cell_type": "code",
      "metadata": {
        "id": "MH7eT5Dlx64A",
        "colab_type": "code",
        "colab": {
          "base_uri": "https://localhost:8080/",
          "height": 33
        },
        "outputId": "e52dac28-c216-4a9f-ce97-d5d77f7464a2"
      },
      "source": [
        "print(\"Accuracy on Test set: {}\", test_acc)"
      ],
      "execution_count": 138,
      "outputs": [
        {
          "output_type": "stream",
          "text": [
            "Accuracy on Test set: {} 0.8399999737739563\n"
          ],
          "name": "stdout"
        }
      ]
    },
    {
      "cell_type": "markdown",
      "metadata": {
        "id": "EtNEXHgnzGn1",
        "colab_type": "text"
      },
      "source": [
        "* As you can see, the Model outperformed on the **Test Data with 84% accuracy**\n",
        "* The Model may be futher improved by increasing the # of Iterations  and adding additional hyperparameters."
      ]
    },
    {
      "cell_type": "markdown",
      "metadata": {
        "id": "aqYJaSX-aU4r",
        "colab_type": "text"
      },
      "source": [
        "**Appendix**"
      ]
    },
    {
      "cell_type": "markdown",
      "metadata": {
        "id": "63EDWClomCkq",
        "colab_type": "text"
      },
      "source": [
        "**References**:"
      ]
    },
    {
      "cell_type": "markdown",
      "metadata": {
        "id": "5aVJmebWmC_i",
        "colab_type": "text"
      },
      "source": [
        "http://www.wildml.com/2015/11/understanding-convolutional-neural-networks-for-nlp/\n",
        "\n",
        "Learning task: Fine tune your understanding on loss functions and optimizers using\n",
        "\n",
        "https://medium.com/data-science-group-iitr/loss-functions-and-optimization-algorithms-demystified-bb92daff331c\n",
        "\n",
        "----------------------------------------------\n",
        "\n",
        "https://www.kaggle.com/sanikamal/text-classification-with-python-and-keras\n",
        "\n",
        "https://machinelearningmastery.com/develop-n-gram-multichannel-convolutional-neural-network-sentiment-analysis/\n",
        "\n",
        "uses Glove emedding\n",
        "https://medium.com/saarthi-ai/sentence-classification-using-convolutional-neural-networks-ddad72c7048c\n",
        "\n",
        "https://thedatafrog.com/en/articles/sentiment-analysis-convolutional-network/\n",
        "\n",
        "https://thedatafrog.com/en/articles/text-preprocessing-machine-learning-yelp/\n"
      ]
    },
    {
      "cell_type": "markdown",
      "metadata": {
        "id": "N9UeLZRlXy4T",
        "colab_type": "text"
      },
      "source": [
        "For Future enhancements:\n",
        "\n",
        "Cleanup text (using below code) and retrain the model."
      ]
    },
    {
      "cell_type": "code",
      "metadata": {
        "id": "RazU_Dss_VqR",
        "colab_type": "code",
        "colab": {}
      },
      "source": [
        "stop_words = set(stopwords.words('english'))\n",
        "table = str.maketrans('', '', string.punctuation)"
      ],
      "execution_count": null,
      "outputs": []
    },
    {
      "cell_type": "code",
      "metadata": {
        "id": "B-E2AjBR8gL5",
        "colab_type": "code",
        "colab": {}
      },
      "source": [
        "def clean_doc(doc):\n",
        "\t# split into tokens by white space\n",
        "\ttokens = doc.split()\n",
        "\n",
        "  #remove punctuations\n",
        "\ttokens = [w.translate(table) for w in tokens]\n",
        "\n",
        "\t# remove remaining tokens that are not alphabetic\n",
        "\ttokens = [word for word in tokens if word.isalpha()]\n",
        "\n",
        "\ttokens = [w for w in tokens if  w not in stop_words]\n",
        "\n",
        "\t# filter out short tokens\n",
        "\ttokens = [word for word in tokens if len(word) > 1]\n",
        "\n",
        "\treturn tokens"
      ],
      "execution_count": null,
      "outputs": []
    },
    {
      "cell_type": "code",
      "metadata": {
        "id": "qIvjOTW38m0H",
        "colab_type": "code",
        "colab": {
          "base_uri": "https://localhost:8080/",
          "height": 33
        },
        "outputId": "2e0a4c18-7dbe-4776-df54-bc08a0e29301"
      },
      "source": [
        "X_train1 = [clean_doc(t) for t in X_train]\n",
        "X_test1 = [clean_doc(t) for t in X_test]\n",
        "X_train1[4]"
      ],
      "execution_count": null,
      "outputs": [
        {
          "output_type": "execute_result",
          "data": {
            "text/plain": [
              "['Just', 'lunch', 'great', 'experience']"
            ]
          },
          "metadata": {
            "tags": []
          },
          "execution_count": 77
        }
      ]
    }
  ]
}