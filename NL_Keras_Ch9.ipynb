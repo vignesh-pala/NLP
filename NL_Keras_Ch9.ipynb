{
  "nbformat": 4,
  "nbformat_minor": 0,
  "metadata": {
    "colab": {
      "name": "NL_Keras_Ch9",
      "provenance": [],
      "collapsed_sections": [],
      "authorship_tag": "ABX9TyOEknQafDUx2bzngZLxQd/1",
      "include_colab_link": true
    },
    "kernelspec": {
      "name": "python3",
      "display_name": "Python 3"
    }
  },
  "cells": [
    {
      "cell_type": "markdown",
      "metadata": {
        "id": "view-in-github",
        "colab_type": "text"
      },
      "source": [
        "<a href=\"https://colab.research.google.com/github/vignesh-pala/NLP/blob/master/NL_Keras_Ch9.ipynb\" target=\"_parent\"><img src=\"https://colab.research.google.com/assets/colab-badge.svg\" alt=\"Open In Colab\"/></a>"
      ]
    },
    {
      "cell_type": "markdown",
      "metadata": {
        "id": "ttsotvPWnZsd",
        "colab_type": "text"
      },
      "source": [
        "**Challenge 9 (NLP with Deep Learning)**\n",
        "\n",
        " \n",
        "\n",
        "The last challenge (Challenge 8) dealt about achieving a model accuracy of around 80% in the multi class prediction for reuters dataset.\n",
        "\n",
        " \n",
        "\n",
        "Here are few things we can do now.  Please try to implement them.\n",
        "\n",
        "1. See if L1 / L2 regularizers can improve the accuracy.\n",
        "\n",
        "2. Separate 10% data from train data and use it as validation set.  Plot the accuracy for train data and validation data against the no of epochs.\n",
        "\n",
        "3. Use test data to predict the accuracy % of the model "
      ]
    },
    {
      "cell_type": "code",
      "metadata": {
        "id": "4CPtRw1-jr9M",
        "colab_type": "code",
        "colab": {}
      },
      "source": [
        "#import Tensorflow.Keras libraries\n",
        "import tensorflow \n",
        "from tensorflow import keras\n",
        "import numpy as np\n",
        "import matplotlib.pyplot as plt\n",
        "import seaborn as sns\n",
        "import pandas as pd\n",
        "from tensorflow.keras.datasets import reuters\n",
        "from sklearn.preprocessing import MinMaxScaler\n",
        "from tensorflow.keras.preprocessing.text import Tokenizer\n",
        "from tensorflow.keras.utils import to_categorical\n",
        "from tensorflow.keras import models,layers,regularizers\n",
        "from tensorflow.keras.models import Sequential\n",
        "from tensorflow.keras.callbacks import EarlyStopping\n",
        "from tensorflow.keras.regularizers import l1, l2, l1_l2\n",
        "from tensorflow.keras.layers import Flatten, Dense, BatchNormalization\n",
        "\n",
        "from tensorflow.keras.preprocessing.text import Tokenizer\n",
        "from tensorflow.keras import preprocessing\n",
        "from tensorflow.keras import models, layers, backend\n",
        "from keras.utils import np_utils\n",
        "\n",
        "from matplotlib import pyplot\n",
        "from sklearn.preprocessing import MinMaxScaler\n",
        "from sklearn.model_selection import train_test_split"
      ],
      "execution_count": 49,
      "outputs": []
    },
    {
      "cell_type": "code",
      "metadata": {
        "id": "dGNz8wl3jyn0",
        "colab_type": "code",
        "colab": {}
      },
      "source": [
        "max_words = 5000"
      ],
      "execution_count": 50,
      "outputs": []
    },
    {
      "cell_type": "code",
      "metadata": {
        "id": "TrxAXuYpj3wn",
        "colab_type": "code",
        "colab": {
          "base_uri": "https://localhost:8080/",
          "height": 33
        },
        "outputId": "5062e865-8a9c-4660-f458-8595ff7e65e7"
      },
      "source": [
        "# split into Train, Test and Validation set\n",
        "(x_train, y_train), (x_test, y_test) = reuters.load_data(num_words=max_words, test_split=0.1)\n",
        "\n",
        "x_train, x_val, y_train, y_val = train_test_split(x_train, y_train, test_size=0.1)\n",
        "\n",
        "#word_index = reuters.get_word_index(path=\"reuters_word_index.json\")\n",
        "print(x_train[0])"
      ],
      "execution_count": 51,
      "outputs": [
        {
          "output_type": "stream",
          "text": [
            "[1, 53, 996, 26, 14, 924, 26, 39, 19, 2, 18, 14, 19, 3302, 18, 86, 187, 63, 11, 14, 160, 59, 11, 17, 12]\n"
          ],
          "name": "stdout"
        }
      ]
    },
    {
      "cell_type": "code",
      "metadata": {
        "id": "sbmXEb0Fj4s9",
        "colab_type": "code",
        "colab": {
          "base_uri": "https://localhost:8080/",
          "height": 33
        },
        "outputId": "d8f22904-ed17-4092-87a5-6a07d85e0ad0"
      },
      "source": [
        "tokenizer = Tokenizer(num_words=max_words)\n",
        "x_train_tkn = tokenizer.sequences_to_matrix(x_train, mode='binary')\n",
        "x_test_tkn = tokenizer.sequences_to_matrix(x_test, mode='binary')\n",
        "x_val_tkn = tokenizer.sequences_to_matrix(x_val, mode='binary')\n",
        "print(x_train_tkn[0])"
      ],
      "execution_count": 52,
      "outputs": [
        {
          "output_type": "stream",
          "text": [
            "[0. 1. 1. ... 0. 0. 0.]\n"
          ],
          "name": "stdout"
        }
      ]
    },
    {
      "cell_type": "markdown",
      "metadata": {
        "id": "Kz2Vl5uUoK-5",
        "colab_type": "text"
      },
      "source": [
        "Convert labels to one-hot encoded fields, so each field represents a label"
      ]
    },
    {
      "cell_type": "code",
      "metadata": {
        "id": "tAiIyxEfkUyp",
        "colab_type": "code",
        "colab": {
          "base_uri": "https://localhost:8080/",
          "height": 33
        },
        "outputId": "e8ce6f80-aa4b-4ba0-ea1b-ff80566ad02a"
      },
      "source": [
        "y_train_cat = np_utils.to_categorical(y_train)\n",
        "y_test_cat = np_utils.to_categorical(y_test)\n",
        "y_val_cat = np_utils.to_categorical(y_val)\n",
        "\n",
        "categories = len(y_train_cat[0])\n",
        "\n",
        "print('Total categories = {}'.format(categories))"
      ],
      "execution_count": 53,
      "outputs": [
        {
          "output_type": "stream",
          "text": [
            "Total categories = 46\n"
          ],
          "name": "stdout"
        }
      ]
    },
    {
      "cell_type": "markdown",
      "metadata": {
        "id": "LwbJFFG4n4Eb",
        "colab_type": "text"
      },
      "source": [
        "**Pad Sequences**\n",
        "\n",
        "* Keras prefers inputs to be vectorized and all inputs to have the same length.\n",
        "So we need to fill in the remaining length with '0' to make the vector length uniform across the dataset.\n",
        "* To acheive this, we use the pad_sequences()\n",
        "Note: padding='post' ensures the 0 padding is done at the end of each record"
      ]
    },
    {
      "cell_type": "code",
      "metadata": {
        "id": "I1uhn_tXmyua",
        "colab_type": "code",
        "colab": {}
      },
      "source": [
        "x_train_pad = preprocessing.sequence.pad_sequences(x_train_tkn, maxlen=max_words,  padding='post')\n",
        "x_test_pad = preprocessing.sequence.pad_sequences(x_test_tkn, maxlen=max_words,  padding='post')\n",
        "x_val_pad = preprocessing.sequence.pad_sequences(x_val_tkn, maxlen=max_words,  padding='post')"
      ],
      "execution_count": 54,
      "outputs": []
    },
    {
      "cell_type": "markdown",
      "metadata": {
        "id": "JzUMg9f_o5HM",
        "colab_type": "text"
      },
      "source": [
        "**Model Building:**"
      ]
    },
    {
      "cell_type": "markdown",
      "metadata": {
        "id": "3sfrFzxSo7cp",
        "colab_type": "text"
      },
      "source": [
        "**Weight Regularization in Keras:**\n",
        "*\tReduces overfitting\n",
        "*\tA weight regularizer can be added to each layer \n",
        "*\tThree different regularizer instances are provided; they are:\n",
        "** L1: Sum of the absolute weights.\n",
        "** L2: Sum of the squared weights.\n",
        "**\tL1L2: Sum of the absolute and the squared weights.\n",
        " \n",
        "* Regularization can be applied to 3 areas within the layer.\n",
        "**\tkernel_regularizer, which applies regularization to the kernel a.k.a. the actual weights;\n",
        "**\tbias_regularizer, which applies regularization to the bias, which shifts the layer outputs;\n",
        "**\tactivity_regularizer, which applies the regularizer to the output of the layer, i.e. the activation value (which is the combination of the weights + biases with the input vector, fed through the activation function\n",
        "*\tEx:\n",
        "from keras.regularizers import l2\n",
        "model.add(Dense(32, kernel_regularizer=l2(0.01), bias_regularizer=l2(0.01) ,kernel_regularizer= l2(0.0001)))"
      ]
    },
    {
      "cell_type": "markdown",
      "metadata": {
        "id": "ozF3ynlioOMN",
        "colab_type": "text"
      },
      "source": [
        "\n",
        "* Train the model and validate on the Validation set\n",
        "* Dropout Layer: Dropout is a technique where randomly selected neurons are ignored during training. They are “dropped-out” randomly.\n"
      ]
    },
    {
      "cell_type": "markdown",
      "metadata": {
        "id": "5wA4Vlv0o_2E",
        "colab_type": "text"
      },
      "source": [
        "**Regularization results**\n",
        "\n",
        "*   l1 regularization: performed very poorly. got validation accuracy as 57% only. \n",
        "*   l1_l2 regularization: same result as l1 regularization\n",
        "\n",
        "* l2 regularization: val accuracy - 77% \n",
        "\n",
        "* l2 regularization(0.001): val accuracy - 79.4% \n",
        "* only with  bias_regularizer=l2(0.001)  got > 80% accuracy"
      ]
    },
    {
      "cell_type": "markdown",
      "metadata": {
        "id": "xdkks3ZmpaOr",
        "colab_type": "text"
      },
      "source": [
        "**BatchNormalization**\n",
        "* This layer will transform inputs so that they are standardized, meaning that they will have a mean of zero and a standard deviation of one\n",
        "* Note: Adding BatchNormalization didnt show improvement, but added it for our learning. Also it doesn't harm the model"
      ]
    },
    {
      "cell_type": "code",
      "metadata": {
        "id": "2eRqJdMhlMgl",
        "colab_type": "code",
        "colab": {
          "base_uri": "https://localhost:8080/",
          "height": 468
        },
        "outputId": "eb17e62b-f868-4495-b2ca-af5500cdc89c"
      },
      "source": [
        "backend.clear_session()\n",
        "\n",
        "model = models.Sequential()\n",
        "model.add(layers.Dense(256, activation='relu', input_shape=(max_words,) ,kernel_regularizer= l2(0.0001)))\n",
        "model.add(BatchNormalization())\n",
        "model.add(layers.Dropout(0.4))\n",
        "model.add(layers.Dense(categories, activation='softmax'))\n",
        "\n",
        "model.compile(optimizer='rmsprop',\n",
        "              loss='categorical_crossentropy',\n",
        "              metrics=['accuracy'])\n",
        "model.summary()\n",
        "\n",
        "early_stop = EarlyStopping(monitor='val_loss', min_delta=0, patience=2, verbose=1, mode='auto', baseline=None, restore_best_weights=False)\n",
        "history = model.fit(x_train_pad, y_train_cat,\n",
        "                    epochs=10,\n",
        "                    batch_size=64,\n",
        "                    validation_data=(x_val_pad, y_val_cat), callbacks=[early_stop])"
      ],
      "execution_count": 62,
      "outputs": [
        {
          "output_type": "stream",
          "text": [
            "Model: \"sequential\"\n",
            "_________________________________________________________________\n",
            "Layer (type)                 Output Shape              Param #   \n",
            "=================================================================\n",
            "dense (Dense)                (None, 256)               1280256   \n",
            "_________________________________________________________________\n",
            "batch_normalization (BatchNo (None, 256)               1024      \n",
            "_________________________________________________________________\n",
            "dropout (Dropout)            (None, 256)               0         \n",
            "_________________________________________________________________\n",
            "dense_1 (Dense)              (None, 46)                11822     \n",
            "=================================================================\n",
            "Total params: 1,293,102\n",
            "Trainable params: 1,292,590\n",
            "Non-trainable params: 512\n",
            "_________________________________________________________________\n",
            "Epoch 1/10\n",
            "143/143 [==============================] - 3s 20ms/step - loss: 1.4311 - accuracy: 0.7309 - val_loss: 1.6960 - val_accuracy: 0.8032\n",
            "Epoch 2/10\n",
            "143/143 [==============================] - 3s 20ms/step - loss: 0.6186 - accuracy: 0.8823 - val_loss: 1.0022 - val_accuracy: 0.8348\n",
            "Epoch 3/10\n",
            "143/143 [==============================] - 3s 20ms/step - loss: 0.4202 - accuracy: 0.9204 - val_loss: 0.9050 - val_accuracy: 0.8200\n",
            "Epoch 4/10\n",
            "143/143 [==============================] - 3s 19ms/step - loss: 0.3488 - accuracy: 0.9335 - val_loss: 0.9498 - val_accuracy: 0.8170\n",
            "Epoch 5/10\n",
            "143/143 [==============================] - 3s 19ms/step - loss: 0.3224 - accuracy: 0.9401 - val_loss: 0.9858 - val_accuracy: 0.8279\n",
            "Epoch 00005: early stopping\n"
          ],
          "name": "stdout"
        }
      ]
    },
    {
      "cell_type": "markdown",
      "metadata": {
        "id": "7fICL9yApvoj",
        "colab_type": "text"
      },
      "source": [
        "**Plotting the results**"
      ]
    },
    {
      "cell_type": "code",
      "metadata": {
        "id": "4G0HXGTSpzmR",
        "colab_type": "code",
        "colab": {
          "base_uri": "https://localhost:8080/",
          "height": 283
        },
        "outputId": "7d48b3d3-5c79-4e59-a6b0-06faef7666d2"
      },
      "source": [
        "# plot history\n",
        "# summarize history for accuracy\n",
        "pyplot.plot(history.history['accuracy'], label='train')\n",
        "pyplot.plot(history.history['val_accuracy'], label='test')\n",
        "pyplot.xlabel(\"Epochs\")\n",
        "pyplot.ylabel(\"Accuracy\")\n",
        "pyplot.legend()\n",
        "pyplot.show()"
      ],
      "execution_count": 63,
      "outputs": [
        {
          "output_type": "display_data",
          "data": {
            "image/png": "[encoded data removed]",
            "text/plain": [
              "<Figure size 432x288 with 1 Axes>"
            ]
          },
          "metadata": {
            "tags": [],
            "needs_background": "light"
          }
        }
      ]
    },
    {
      "cell_type": "markdown",
      "metadata": {
        "id": "8mfr-LlbddpO",
        "colab_type": "text"
      },
      "source": [
        "**Evaluate the model on Test data**"
      ]
    },
    {
      "cell_type": "code",
      "metadata": {
        "id": "Olbre36GdZRj",
        "colab_type": "code",
        "colab": {
          "base_uri": "https://localhost:8080/",
          "height": 67
        },
        "outputId": "449c4faa-fed9-4e27-f5d9-aa3b698948c1"
      },
      "source": [
        "results = model.evaluate(x_test_pad, y_test_cat, batch_size=64)\n",
        "print(\"test loss = {}\\ntest accuracy = {}\".format(results[0], results[1]))"
      ],
      "execution_count": 64,
      "outputs": [
        {
          "output_type": "stream",
          "text": [
            "18/18 [==============================] - 0s 6ms/step - loss: 1.0988 - accuracy: 0.8059\n",
            "test loss = 1.0987989902496338\n",
            "test accuracy = 0.8058770895004272\n"
          ],
          "name": "stdout"
        }
      ]
    },
    {
      "cell_type": "markdown",
      "metadata": {
        "id": "-PGSWXVxwCXk",
        "colab_type": "text"
      },
      "source": [
        "**Summary**\n",
        "\n",
        "* Tried L1, L2, L1_L2 regularization on kernel_regularizer and Bias_regularizer\n",
        "* Tried Batch Normalization \n",
        "* Accuracy slightly improved on L2 regularization on kernel_regularizer\n",
        "* Batch Normalization didnt show improvement.\n",
        "* Adding Layers also didnt show improvement\n",
        "\n",
        "* Max Validation accuracy : 83.48%\n",
        "* Test data accuracy: 80.58%"
      ]
    }
  ]
}