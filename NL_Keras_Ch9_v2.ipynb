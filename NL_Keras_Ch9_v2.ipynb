{
  "nbformat": 4,
  "nbformat_minor": 0,
  "metadata": {
    "colab": {
      "name": "NL_Keras_Ch9",
      "provenance": [],
      "collapsed_sections": [],
      "authorship_tag": "ABX9TyPAhwUSt/7NmNbg1I9Rd0kz",
      "include_colab_link": true
    },
    "kernelspec": {
      "name": "python3",
      "display_name": "Python 3"
    }
  },
  "cells": [
    {
      "cell_type": "markdown",
      "metadata": {
        "id": "view-in-github",
        "colab_type": "text"
      },
      "source": [
        "<a href=\"https://colab.research.google.com/github/vignesh-pala/NLP/blob/master/NL_Keras_Ch9_v2.ipynb\" target=\"_parent\"><img src=\"https://colab.research.google.com/assets/colab-badge.svg\" alt=\"Open In Colab\"/></a>"
      ]
    },
    {
      "cell_type": "markdown",
      "metadata": {
        "id": "ttsotvPWnZsd",
        "colab_type": "text"
      },
      "source": [
        "**Challenge 9 (NLP with Deep Learning)**\n",
        "\n",
        " \n",
        "\n",
        "The last challenge (Challenge 8) dealt about achieving a model accuracy of around 80% in the multi class prediction for reuters dataset.\n",
        "\n",
        " \n",
        "\n",
        "Here are few things we can do now.  Please try to implement them.\n",
        "\n",
        "1. See if L1 / L2 regularizers can improve the accuracy.\n",
        "\n",
        "2. Separate 10% data from train data and use it as validation set.  Plot the accuracy for train data and validation data against the no of epochs.\n",
        "\n",
        "3. Use test data to predict the accuracy % of the model "
      ]
    },
    {
      "cell_type": "code",
      "metadata": {
        "id": "4CPtRw1-jr9M",
        "colab_type": "code",
        "colab": {
          "base_uri": "https://localhost:8080/",
          "height": 87
        },
        "outputId": "12b4d0ce-490e-4475-ad4a-27210bf889db"
      },
      "source": [
        "#import Tensorflow.Keras libraries\n",
        "import tensorflow \n",
        "from tensorflow import keras\n",
        "import numpy as np\n",
        "import matplotlib.pyplot as plt\n",
        "import seaborn as sns\n",
        "import pandas as pd\n",
        "from tensorflow.keras.datasets import reuters\n",
        "from sklearn.preprocessing import MinMaxScaler\n",
        "from tensorflow.keras.preprocessing.text import Tokenizer\n",
        "from tensorflow.keras.utils import to_categorical\n",
        "from tensorflow.keras import models,layers,regularizers\n",
        "from tensorflow.keras.models import Sequential\n",
        "from tensorflow.keras.callbacks import EarlyStopping\n",
        "from tensorflow.keras.regularizers import l1, l2, l1_l2\n",
        "from tensorflow.keras.layers import Flatten, Dense, BatchNormalization\n",
        "\n",
        "from tensorflow.keras.preprocessing.text import Tokenizer\n",
        "from tensorflow.keras import preprocessing\n",
        "from tensorflow.keras import models, layers, backend\n",
        "from keras.utils import np_utils\n",
        "\n",
        "from matplotlib import pyplot\n",
        "from sklearn.preprocessing import MinMaxScaler\n",
        "from sklearn.model_selection import train_test_split"
      ],
      "execution_count": 1,
      "outputs": [
        {
          "output_type": "stream",
          "text": [
            "/usr/local/lib/python3.6/dist-packages/statsmodels/tools/_testing.py:19: FutureWarning: pandas.util.testing is deprecated. Use the functions in the public API at pandas.testing instead.\n",
            "  import pandas.util.testing as tm\n",
            "Using TensorFlow backend.\n"
          ],
          "name": "stderr"
        }
      ]
    },
    {
      "cell_type": "code",
      "metadata": {
        "id": "dGNz8wl3jyn0",
        "colab_type": "code",
        "colab": {}
      },
      "source": [
        "max_words = 5000"
      ],
      "execution_count": 2,
      "outputs": []
    },
    {
      "cell_type": "code",
      "metadata": {
        "id": "TrxAXuYpj3wn",
        "colab_type": "code",
        "colab": {
          "base_uri": "https://localhost:8080/",
          "height": 67
        },
        "outputId": "83c73e6f-6baf-4b79-d623-c33ba9c3658e"
      },
      "source": [
        "# split into Train, Test and Validation set\n",
        "(x_train, y_train), (x_test, y_test) = reuters.load_data(num_words=max_words, test_split=0.1)\n",
        "\n",
        "x_train, x_val, y_train, y_val = train_test_split(x_train, y_train, test_size=0.1)\n",
        "\n",
        "#word_index = reuters.get_word_index(path=\"reuters_word_index.json\")\n",
        "print(x_train[0])"
      ],
      "execution_count": 3,
      "outputs": [
        {
          "output_type": "stream",
          "text": [
            "Downloading data from https://storage.googleapis.com/tensorflow/tf-keras-datasets/reuters.npz\n",
            "2113536/2110848 [==============================] - 0s 0us/step\n",
            "[1, 53, 996, 26, 14, 924, 26, 39, 19, 2, 18, 14, 19, 3302, 18, 86, 187, 63, 11, 14, 160, 59, 11, 17, 12]\n"
          ],
          "name": "stdout"
        }
      ]
    },
    {
      "cell_type": "code",
      "metadata": {
        "id": "sbmXEb0Fj4s9",
        "colab_type": "code",
        "colab": {
          "base_uri": "https://localhost:8080/",
          "height": 33
        },
        "outputId": "d061c5fe-732f-4883-fd5f-a44ebcb4685c"
      },
      "source": [
        "tokenizer = Tokenizer(num_words=max_words)\n",
        "x_train_tkn = tokenizer.sequences_to_matrix(x_train, mode='binary')\n",
        "x_test_tkn = tokenizer.sequences_to_matrix(x_test, mode='binary')\n",
        "x_val_tkn = tokenizer.sequences_to_matrix(x_val, mode='binary')\n",
        "print(x_train_tkn[0])"
      ],
      "execution_count": 4,
      "outputs": [
        {
          "output_type": "stream",
          "text": [
            "[0. 1. 1. ... 0. 0. 0.]\n"
          ],
          "name": "stdout"
        }
      ]
    },
    {
      "cell_type": "markdown",
      "metadata": {
        "id": "Kz2Vl5uUoK-5",
        "colab_type": "text"
      },
      "source": [
        "Convert labels to one-hot encoded fields, so each field represents a label"
      ]
    },
    {
      "cell_type": "code",
      "metadata": {
        "id": "tAiIyxEfkUyp",
        "colab_type": "code",
        "colab": {
          "base_uri": "https://localhost:8080/",
          "height": 33
        },
        "outputId": "cb2e3d9d-a441-49ea-f4bc-2499df32b0af"
      },
      "source": [
        "y_train_cat = np_utils.to_categorical(y_train)\n",
        "y_test_cat = np_utils.to_categorical(y_test)\n",
        "y_val_cat = np_utils.to_categorical(y_val)\n",
        "\n",
        "categories = len(y_train_cat[0])\n",
        "\n",
        "print('Total categories = {}'.format(categories))"
      ],
      "execution_count": 5,
      "outputs": [
        {
          "output_type": "stream",
          "text": [
            "Total categories = 46\n"
          ],
          "name": "stdout"
        }
      ]
    },
    {
      "cell_type": "markdown",
      "metadata": {
        "id": "LwbJFFG4n4Eb",
        "colab_type": "text"
      },
      "source": [
        "**Pad Sequences**\n",
        "\n",
        "* Keras prefers inputs to be vectorized and all inputs to have the same length.\n",
        "So we need to fill in the remaining length with '0' to make the vector length uniform across the dataset.\n",
        "* To acheive this, we use the pad_sequences()\n",
        "Note: padding='post' ensures the 0 padding is done at the end of each record"
      ]
    },
    {
      "cell_type": "code",
      "metadata": {
        "id": "I1uhn_tXmyua",
        "colab_type": "code",
        "colab": {}
      },
      "source": [
        "x_train_pad = preprocessing.sequence.pad_sequences(x_train_tkn, maxlen=max_words,  padding='post')\n",
        "x_test_pad = preprocessing.sequence.pad_sequences(x_test_tkn, maxlen=max_words,  padding='post')\n",
        "x_val_pad = preprocessing.sequence.pad_sequences(x_val_tkn, maxlen=max_words,  padding='post')"
      ],
      "execution_count": 6,
      "outputs": []
    },
    {
      "cell_type": "markdown",
      "metadata": {
        "id": "JzUMg9f_o5HM",
        "colab_type": "text"
      },
      "source": [
        "**Model Building:**"
      ]
    },
    {
      "cell_type": "markdown",
      "metadata": {
        "id": "3sfrFzxSo7cp",
        "colab_type": "text"
      },
      "source": [
        "**Weight Regularization in Keras:**\n",
        "*\tReduces overfitting\n",
        "*\tA weight regularizer can be added to each layer \n",
        "*\tThree different regularizer instances are provided; they are:\n",
        "** L1: Sum of the absolute weights.\n",
        "** L2: Sum of the squared weights.\n",
        "**\tL1L2: Sum of the absolute and the squared weights.\n",
        " \n",
        "* Regularization can be applied to 3 areas within the layer.\n",
        "**\tkernel_regularizer, which applies regularization to the kernel a.k.a. the actual weights;\n",
        "**\tbias_regularizer, which applies regularization to the bias, which shifts the layer outputs;\n",
        "**\tactivity_regularizer, which applies the regularizer to the output of the layer, i.e. the activation value (which is the combination of the weights + biases with the input vector, fed through the activation function\n",
        "*\tEx:\n",
        "from keras.regularizers import l2\n",
        "model.add(Dense(32, kernel_regularizer=l2(0.01), bias_regularizer=l2(0.01) ,kernel_regularizer= l2(0.0001)))"
      ]
    },
    {
      "cell_type": "markdown",
      "metadata": {
        "id": "ozF3ynlioOMN",
        "colab_type": "text"
      },
      "source": [
        "\n",
        "* Train the model and validate on the Validation set\n",
        "* Dropout Layer: Dropout is a technique where randomly selected neurons are ignored during training. They are “dropped-out” randomly.\n"
      ]
    },
    {
      "cell_type": "markdown",
      "metadata": {
        "id": "5wA4Vlv0o_2E",
        "colab_type": "text"
      },
      "source": [
        "**Regularization results**\n",
        "\n",
        "*   l1 regularization: performed very poorly. got validation accuracy as 57% only. \n",
        "*   l1_l2 regularization: same result as l1 regularization\n",
        "\n",
        "* l2 regularization: val accuracy - 77% \n",
        "\n",
        "* l2 regularization(0.001): val accuracy - 79.4% \n",
        "* only with  bias_regularizer=l2(0.001)  got > 80% accuracy"
      ]
    },
    {
      "cell_type": "markdown",
      "metadata": {
        "id": "xdkks3ZmpaOr",
        "colab_type": "text"
      },
      "source": [
        "**BatchNormalization**\n",
        "* This layer will transform inputs so that they are standardized, meaning that they will have a mean of zero and a standard deviation of one\n",
        "* Note: Adding BatchNormalization didnt show improvement, but added it for our learning. Also it doesn't harm the model"
      ]
    },
    {
      "cell_type": "code",
      "metadata": {
        "id": "5qJl49d9sFSp",
        "colab_type": "code",
        "colab": {
          "base_uri": "https://localhost:8080/",
          "height": 468
        },
        "outputId": "ec978d5c-1d84-4056-ea85-071b2a89f8bb"
      },
      "source": [
        "#Original Code:\n",
        "backend.clear_session()\n",
        "\n",
        "model = models.Sequential()\n",
        "model.add(layers.Dense(256, activation='relu', input_shape=(max_words,) ,kernel_regularizer= l2(0.0001)))\n",
        "#model.add(BatchNormalization())\n",
        "model.add(layers.Dropout(0.4))\n",
        "model.add(layers.Dense(categories, activation='softmax'))\n",
        "\n",
        "model.compile(optimizer='rmsprop',\n",
        "              loss='categorical_crossentropy',\n",
        "              metrics=['accuracy'])\n",
        "model.summary()\n",
        "\n",
        "early_stop = EarlyStopping(monitor='val_loss', min_delta=0, patience=2, verbose=1, mode='auto', baseline=None, restore_best_weights=False)\n",
        "history = model.fit(x_train_pad, y_train_cat,\n",
        "                    epochs=10,\n",
        "                    batch_size=64,\n",
        "                    validation_data=(x_val_pad, y_val_cat), callbacks=[early_stop])"
      ],
      "execution_count": 25,
      "outputs": [
        {
          "output_type": "stream",
          "text": [
            "Model: \"sequential\"\n",
            "_________________________________________________________________\n",
            "Layer (type)                 Output Shape              Param #   \n",
            "=================================================================\n",
            "dense (Dense)                (None, 256)               1280256   \n",
            "_________________________________________________________________\n",
            "dropout (Dropout)            (None, 256)               0         \n",
            "_________________________________________________________________\n",
            "dense_1 (Dense)              (None, 46)                11822     \n",
            "=================================================================\n",
            "Total params: 1,292,078\n",
            "Trainable params: 1,292,078\n",
            "Non-trainable params: 0\n",
            "_________________________________________________________________\n",
            "Epoch 1/10\n",
            "143/143 [==============================] - 3s 23ms/step - loss: 1.3834 - accuracy: 0.7064 - val_loss: 1.0009 - val_accuracy: 0.7953\n",
            "Epoch 2/10\n",
            "143/143 [==============================] - 3s 22ms/step - loss: 0.7672 - accuracy: 0.8433 - val_loss: 0.8693 - val_accuracy: 0.8051\n",
            "Epoch 3/10\n",
            "143/143 [==============================] - 3s 23ms/step - loss: 0.5603 - accuracy: 0.8863 - val_loss: 0.8171 - val_accuracy: 0.8299\n",
            "Epoch 4/10\n",
            "143/143 [==============================] - 3s 23ms/step - loss: 0.4520 - accuracy: 0.9108 - val_loss: 0.8109 - val_accuracy: 0.8358\n",
            "Epoch 5/10\n",
            "143/143 [==============================] - 3s 22ms/step - loss: 0.3963 - accuracy: 0.9227 - val_loss: 0.8455 - val_accuracy: 0.8289\n",
            "Epoch 6/10\n",
            "143/143 [==============================] - 3s 23ms/step - loss: 0.3593 - accuracy: 0.9330 - val_loss: 0.8991 - val_accuracy: 0.8229\n",
            "Epoch 00006: early stopping\n"
          ],
          "name": "stdout"
        }
      ]
    },
    {
      "cell_type": "markdown",
      "metadata": {
        "id": "cgszTwgasdTL",
        "colab_type": "text"
      },
      "source": [
        "**Plotting the results**"
      ]
    },
    {
      "cell_type": "code",
      "metadata": {
        "id": "VEmNyQGgseBp",
        "colab_type": "code",
        "colab": {
          "base_uri": "https://localhost:8080/",
          "height": 279
        },
        "outputId": "56ef96ec-b241-40b3-8cdf-f0cebf005222"
      },
      "source": [
        "# plot history\n",
        "# summarize history for accuracy\n",
        "pyplot.plot(history.history['accuracy'], label='train')\n",
        "pyplot.plot(history.history['val_accuracy'], label='test')\n",
        "pyplot.xlabel(\"Epochs\")\n",
        "pyplot.ylabel(\"Accuracy\")\n",
        "pyplot.legend()\n",
        "pyplot.show()"
      ],
      "execution_count": 26,
      "outputs": [
        {
          "output_type": "display_data",
          "data": {
            "image/png": "[encoded data removed]",
            "text/plain": [
              "<Figure size 432x288 with 1 Axes>"
            ]
          },
          "metadata": {
            "tags": [],
            "needs_background": "light"
          }
        }
      ]
    },
    {
      "cell_type": "markdown",
      "metadata": {
        "id": "SvsXE5nzshK1",
        "colab_type": "text"
      },
      "source": [
        "**As you can see i the graph, the model is overfitting on the train data. Lets add another drop out layer and see...**"
      ]
    },
    {
      "cell_type": "code",
      "metadata": {
        "id": "2eRqJdMhlMgl",
        "colab_type": "code",
        "colab": {
          "base_uri": "https://localhost:8080/",
          "height": 535
        },
        "outputId": "1290bed2-5b56-4c6f-c8a7-5611ac4a2c89"
      },
      "source": [
        "backend.clear_session()\n",
        "\n",
        "model = models.Sequential()\n",
        "model.add(layers.Dense(256, activation='relu', input_shape=(max_words,) ,kernel_regularizer= l2(0.0001)))\n",
        "#model.add(BatchNormalization())\n",
        "model.add(layers.Dropout(0.5))\n",
        "model.add(layers.Dropout(0.5))\n",
        "model.add(layers.Dense(categories, activation='softmax'))\n",
        "\n",
        "model.compile(optimizer='rmsprop',\n",
        "              loss='categorical_crossentropy',\n",
        "              metrics=['accuracy'])\n",
        "model.summary()\n",
        "\n",
        "early_stop = EarlyStopping(monitor='val_loss', min_delta=0, patience=2, verbose=1, mode='auto', baseline=None, restore_best_weights=False)\n",
        "history = model.fit(x_train_pad, y_train_cat,\n",
        "                    epochs=10,\n",
        "                    batch_size=64,\n",
        "                    validation_data=(x_val_pad, y_val_cat), callbacks=[early_stop])"
      ],
      "execution_count": 22,
      "outputs": [
        {
          "output_type": "stream",
          "text": [
            "Model: \"sequential\"\n",
            "_________________________________________________________________\n",
            "Layer (type)                 Output Shape              Param #   \n",
            "=================================================================\n",
            "dense (Dense)                (None, 256)               1280256   \n",
            "_________________________________________________________________\n",
            "dropout (Dropout)            (None, 256)               0         \n",
            "_________________________________________________________________\n",
            "dropout_1 (Dropout)          (None, 256)               0         \n",
            "_________________________________________________________________\n",
            "dense_1 (Dense)              (None, 46)                11822     \n",
            "=================================================================\n",
            "Total params: 1,292,078\n",
            "Trainable params: 1,292,078\n",
            "Non-trainable params: 0\n",
            "_________________________________________________________________\n",
            "Epoch 1/10\n",
            "143/143 [==============================] - 3s 23ms/step - loss: 1.6806 - accuracy: 0.6332 - val_loss: 1.1917 - val_accuracy: 0.7498\n",
            "Epoch 2/10\n",
            "143/143 [==============================] - 3s 23ms/step - loss: 1.1138 - accuracy: 0.7609 - val_loss: 1.0385 - val_accuracy: 0.7774\n",
            "Epoch 3/10\n",
            "143/143 [==============================] - 3s 23ms/step - loss: 0.9533 - accuracy: 0.7998 - val_loss: 0.9776 - val_accuracy: 0.7873\n",
            "Epoch 4/10\n",
            "143/143 [==============================] - 3s 22ms/step - loss: 0.8561 - accuracy: 0.8221 - val_loss: 0.9568 - val_accuracy: 0.7992\n",
            "Epoch 5/10\n",
            "143/143 [==============================] - 3s 22ms/step - loss: 0.7927 - accuracy: 0.8378 - val_loss: 0.9456 - val_accuracy: 0.8101\n",
            "Epoch 6/10\n",
            "143/143 [==============================] - 3s 23ms/step - loss: 0.7546 - accuracy: 0.8479 - val_loss: 0.9562 - val_accuracy: 0.8140\n",
            "Epoch 7/10\n",
            "143/143 [==============================] - 3s 22ms/step - loss: 0.7082 - accuracy: 0.8592 - val_loss: 0.9542 - val_accuracy: 0.8160\n",
            "Epoch 00007: early stopping\n"
          ],
          "name": "stdout"
        }
      ]
    },
    {
      "cell_type": "markdown",
      "metadata": {
        "id": "7fICL9yApvoj",
        "colab_type": "text"
      },
      "source": [
        "**Plotting the results**"
      ]
    },
    {
      "cell_type": "code",
      "metadata": {
        "id": "4G0HXGTSpzmR",
        "colab_type": "code",
        "colab": {
          "base_uri": "https://localhost:8080/",
          "height": 279
        },
        "outputId": "a0e8adaa-fe24-490a-d3a1-ecd5cdd101b4"
      },
      "source": [
        "# plot history\n",
        "# summarize history for accuracy\n",
        "pyplot.plot(history.history['accuracy'], label='train')\n",
        "pyplot.plot(history.history['val_accuracy'], label='test')\n",
        "pyplot.xlabel(\"Epochs\")\n",
        "pyplot.ylabel(\"Accuracy\")\n",
        "pyplot.legend()\n",
        "pyplot.show()"
      ],
      "execution_count": 23,
      "outputs": [
        {
          "output_type": "display_data",
          "data": {
            "image/png": "[encoded data removed]",
            "text/plain": [
              "<Figure size 432x288 with 1 Axes>"
            ]
          },
          "metadata": {
            "tags": [],
            "needs_background": "light"
          }
        }
      ]
    },
    {
      "cell_type": "markdown",
      "metadata": {
        "id": "Je3CoVs1tL9U",
        "colab_type": "text"
      },
      "source": [
        "After adding two  Dropout layers, the model seems to be learning the data well as the Train and test set accuracies are close to each other.\n",
        "\n",
        "**Further improvement:**\n",
        "As you can notice in the graph, \n",
        "* validation accuracy is flat after 4 epochs.\n",
        "* also the difference on train and test accuracy is increasing after 4th Epochs\n",
        "\n",
        "so we can limit the training process to 4 epochs."
      ]
    },
    {
      "cell_type": "markdown",
      "metadata": {
        "id": "8mfr-LlbddpO",
        "colab_type": "text"
      },
      "source": [
        "**Evaluate the model on Test data**"
      ]
    },
    {
      "cell_type": "code",
      "metadata": {
        "id": "Olbre36GdZRj",
        "colab_type": "code",
        "colab": {
          "base_uri": "https://localhost:8080/",
          "height": 67
        },
        "outputId": "649f2952-cef5-4887-ee95-ba7a00d58762"
      },
      "source": [
        "results = model.evaluate(x_test_pad, y_test_cat, batch_size=64)\n",
        "print(\"test loss = {}\\ntest accuracy = {}\".format(results[0], results[1]))"
      ],
      "execution_count": 27,
      "outputs": [
        {
          "output_type": "stream",
          "text": [
            "18/18 [==============================] - 0s 7ms/step - loss: 0.9937 - accuracy: 0.8050\n",
            "test loss = 0.9936931133270264\n",
            "test accuracy = 0.8049866557121277\n"
          ],
          "name": "stdout"
        }
      ]
    },
    {
      "cell_type": "markdown",
      "metadata": {
        "id": "-PGSWXVxwCXk",
        "colab_type": "text"
      },
      "source": [
        "**Summary**\n",
        "\n",
        "* Tried L1, L2, L1_L2 regularization on kernel_regularizer and Bias_regularizer\n",
        "* Tried Batch Normalization \n",
        "* Accuracy slightly improved on L2 regularization on kernel_regularizer\n",
        "* Batch Normalization didnt show improvement.\n",
        "* Adding Layers also didnt show improvement\n",
        "\n",
        "* Max Validation accuracy : 83.48%\n",
        "* Test data accuracy: 80.58%\n",
        "\n",
        "* Added another droput layer to avoid overfitting\n",
        "* Limitted # of Epochs as mentioned above"
      ]
    }
  ]
}